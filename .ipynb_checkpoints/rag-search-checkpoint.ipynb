{
 "cells": [
  {
   "cell_type": "code",
   "id": "initial_id",
   "metadata": {
    "collapsed": true,
    "ExecuteTime": {
     "end_time": "2024-04-25T12:29:55.611794Z",
     "start_time": "2024-04-25T12:29:33.829415Z"
    }
   },
   "source": [
    "import torch\n",
    "from transformers import AutoTokenizer,AutoModelForCausalLM\n",
    "from transformers import BitsAndBytesConfig\n",
    "\n",
    "model_id = \"meta-llama/Llama-2-7b-chat-hf\"\n",
    "\n",
    "tokenizer = AutoTokenizer.from_pretrained(model_id)\n",
    "model = AutoModelForCausalLM.from_pretrained(model_id,\n",
    "                                            torch_dtype = torch.float16,\n",
    "                                            low_cpu_mem_usage= False,\n",
    "                                            attn_implementation='sdpa')"
   ],
   "outputs": [
    {
     "data": {
      "text/plain": [
       "Loading checkpoint shards:   0%|          | 0/2 [00:00<?, ?it/s]"
      ],
      "application/vnd.jupyter.widget-view+json": {
       "version_major": 2,
       "version_minor": 0,
       "model_id": "7f389b46fc0243c1a5460d99b35504bd"
      }
     },
     "metadata": {},
     "output_type": "display_data"
    }
   ],
   "execution_count": 1
  },
  {
   "metadata": {
    "ExecuteTime": {
     "end_time": "2024-04-25T12:30:07.687239Z",
     "start_time": "2024-04-25T12:29:58.927874Z"
    }
   },
   "cell_type": "code",
   "source": "model.to('cuda')",
   "id": "4e5222d462702c1f",
   "outputs": [
    {
     "data": {
      "text/plain": [
       "LlamaForCausalLM(\n",
       "  (model): LlamaModel(\n",
       "    (embed_tokens): Embedding(32000, 4096)\n",
       "    (layers): ModuleList(\n",
       "      (0-31): 32 x LlamaDecoderLayer(\n",
       "        (self_attn): LlamaSdpaAttention(\n",
       "          (q_proj): Linear(in_features=4096, out_features=4096, bias=False)\n",
       "          (k_proj): Linear(in_features=4096, out_features=4096, bias=False)\n",
       "          (v_proj): Linear(in_features=4096, out_features=4096, bias=False)\n",
       "          (o_proj): Linear(in_features=4096, out_features=4096, bias=False)\n",
       "          (rotary_emb): LlamaRotaryEmbedding()\n",
       "        )\n",
       "        (mlp): LlamaMLP(\n",
       "          (gate_proj): Linear(in_features=4096, out_features=11008, bias=False)\n",
       "          (up_proj): Linear(in_features=4096, out_features=11008, bias=False)\n",
       "          (down_proj): Linear(in_features=11008, out_features=4096, bias=False)\n",
       "          (act_fn): SiLU()\n",
       "        )\n",
       "        (input_layernorm): LlamaRMSNorm()\n",
       "        (post_attention_layernorm): LlamaRMSNorm()\n",
       "      )\n",
       "    )\n",
       "    (norm): LlamaRMSNorm()\n",
       "  )\n",
       "  (lm_head): Linear(in_features=4096, out_features=32000, bias=False)\n",
       ")"
      ]
     },
     "execution_count": 2,
     "metadata": {},
     "output_type": "execute_result"
    }
   ],
   "execution_count": 2
  },
  {
   "metadata": {
    "ExecuteTime": {
     "end_time": "2024-04-25T12:30:13.498641Z",
     "start_time": "2024-04-25T12:30:12.177103Z"
    }
   },
   "cell_type": "code",
   "source": [
    "import pandas as pd\n",
    "import numpy as np\n",
    "\n",
    "text_and_embeddings_df = pd.read_csv('text_chunks_and_embeddings_df.csv')\n",
    "\n",
    "text_and_embeddings_df['embedding'] =text_and_embeddings_df['embedding'].apply(\n",
    "            lambda x: np.fromstring(x.strip(\"[]\"), sep=\" \"))\n",
    "embeddings = torch.tensor(np.array(text_and_embeddings_df['embedding'].tolist()),\n",
    "                                       dtype=torch.float32).to('cuda')\n"
   ],
   "id": "857d672015cb3db7",
   "outputs": [],
   "execution_count": 3
  },
  {
   "metadata": {
    "ExecuteTime": {
     "end_time": "2024-04-25T12:30:13.808292Z",
     "start_time": "2024-04-25T12:30:13.502454Z"
    }
   },
   "cell_type": "code",
   "source": "embeddings",
   "id": "473e1a568b739a0e",
   "outputs": [
    {
     "data": {
      "text/plain": [
       "tensor([[ 0.0078, -0.0435,  0.0216,  ...,  0.0420, -0.0227, -0.0199],\n",
       "        [ 0.0344, -0.0408, -0.0058,  ...,  0.0550, -0.0617, -0.0125],\n",
       "        [ 0.0688,  0.0074, -0.0311,  ..., -0.0414, -0.0021, -0.0064],\n",
       "        ...,\n",
       "        [-0.0548, -0.0071, -0.0126,  ...,  0.0578, -0.0208, -0.0249],\n",
       "        [-0.0576, -0.0276,  0.0080,  ...,  0.0491, -0.0014, -0.0075],\n",
       "        [-0.0539, -0.0090, -0.0119,  ...,  0.0675,  0.0009, -0.0161]],\n",
       "       device='cuda:0')"
      ]
     },
     "execution_count": 4,
     "metadata": {},
     "output_type": "execute_result"
    }
   ],
   "execution_count": 4
  },
  {
   "metadata": {
    "ExecuteTime": {
     "end_time": "2024-04-25T12:30:14.509548Z",
     "start_time": "2024-04-25T12:30:14.491035Z"
    }
   },
   "cell_type": "code",
   "source": "pages_and_chunks = text_and_embeddings_df.to_dict('records')",
   "id": "2861750ffd72878c",
   "outputs": [],
   "execution_count": 5
  },
  {
   "metadata": {
    "ExecuteTime": {
     "end_time": "2024-04-25T12:30:21.265188Z",
     "start_time": "2024-04-25T12:30:15.602315Z"
    }
   },
   "cell_type": "code",
   "source": [
    "from sentence_transformers import SentenceTransformer,util\n",
    "\n",
    "embedding_model = SentenceTransformer(model_name_or_path=\"all-mpnet-base-v2\",\n",
    "                                     device='cuda')"
   ],
   "id": "ea0b3e50b3e5c254",
   "outputs": [],
   "execution_count": 6
  },
  {
   "metadata": {
    "ExecuteTime": {
     "end_time": "2024-04-25T12:30:21.808254Z",
     "start_time": "2024-04-25T12:30:21.790350Z"
    }
   },
   "cell_type": "code",
   "source": [
    "def prompt_fomatting(\n",
    "    query:str, context_dict : list[dict]) -> str:\n",
    "    context = \"- \" +  \"\\n- \".join([item['sentence_chunk'] for item in context_dict])\n",
    "    \n",
    "    base_prompt = \"\"\"\"Based on the following context , please answer the query.\n",
    "    query: {query}\n",
    "    context: {context} \"\"\"\n",
    "    base_prompt = base_prompt.format(context=context, query=query)\n",
    "\n",
    "    dialogue_template = [\n",
    "    {\"role\":\"user\",\n",
    "    \"content\":base_prompt}]\n",
    "\n",
    "    prompt = tokenizer.apply_chat_template(conversation=dialogue_template,\n",
    "                                          tokenize=False,\n",
    "                                          add_generation_prompt=True)\n",
    "\n",
    " \n",
    "    \n",
    "    return prompt"
   ],
   "id": "60ac4d8a94d36b2d",
   "outputs": [],
   "execution_count": 7
  },
  {
   "metadata": {
    "ExecuteTime": {
     "end_time": "2024-04-25T12:30:22.478006Z",
     "start_time": "2024-04-25T12:30:22.464831Z"
    }
   },
   "cell_type": "code",
   "source": "",
   "id": "9771da302186efbd",
   "outputs": [],
   "execution_count": 7
  },
  {
   "metadata": {
    "ExecuteTime": {
     "end_time": "2024-04-25T12:30:23.258066Z",
     "start_time": "2024-04-25T12:30:23.242179Z"
    }
   },
   "cell_type": "code",
   "source": [
    "questions = [\n",
    "    \"What is the concept of spacetime and how does it relate to our understanding of the universe?\",\n",
    "    \"How do black holes form, and what are the key characteristics that define them?\",\n",
    "    \"What is the event horizon of a black hole, and what significance does it hold in the context of general relativity?\",\n",
    "    \"Can anything escape from the gravitational pull of a black hole? If so, under what conditions?\",\n",
    "    \"What is Hawking radiation, and how does it challenge our understanding of black holes?\",\n",
    "    \"How do black holes affect the fabric of spacetime around them, and what implications does this have for the universe?\",\n",
    "    \"What role do black holes play in the formation and evolution of galaxies?\",\n",
    "    \"What are some proposed theories for what lies beyond the event horizon of a black hole?\",\n",
    "    \"How do black holes distort space and time around them, and how is this effect observed?\",\n",
    "    \"What are some potential applications or consequences of harnessing the power of black holes or manipulating spacetime?\"\n",
    "]\n"
   ],
   "id": "8fabaa26fa532a2d",
   "outputs": [],
   "execution_count": 8
  },
  {
   "metadata": {
    "ExecuteTime": {
     "end_time": "2024-04-25T12:30:24.023479Z",
     "start_time": "2024-04-25T12:30:24.001695Z"
    }
   },
   "cell_type": "code",
   "source": [
    "def retrival_query_resources(query:str,\n",
    "                             embeddings: torch.tensor,\n",
    "                             model: SentenceTransformer=embedding_model,\n",
    "                             indices_to_return:int = 5):\n",
    "\n",
    "\n",
    "\n",
    "        query_embedding = model.encode(query,convert_to_tensor=True)\n",
    "        start_time = time.time()\n",
    "        dot_scores = util.dot_score(query_embedding,embeddings)[0]\n",
    "        end_time = time.time()\n",
    "        print(f\"[INFO] Time taken to get scores on {len(embeddings)} embeddings :{end_time - start_time}\")\n",
    "        scores,indices = torch.topk(dot_scores,k=indices_to_return)\n",
    "        return scores,indices\n",
    "\n",
    "def print_query_results(query:str,embeddings,pages_and_chunks=pages_and_chunks):\n",
    "    \n",
    "    scores,indices = retrival_query_resources(query=query,\n",
    "                                              embeddings=embeddings)\n",
    "\n",
    "    for score,idx in zip(scores,indices):\n",
    "        print(f\"Score:{score*100:.2f}\")\n",
    "        print(\"Text:\")\n",
    "        print(pages_and_chunks[idx]['sentence_chunk'])\n",
    "        print(\"\\n\")"
   ],
   "id": "5d10cd1d636c1ade",
   "outputs": [],
   "execution_count": 9
  },
  {
   "metadata": {
    "ExecuteTime": {
     "end_time": "2024-04-25T12:30:25.411352Z",
     "start_time": "2024-04-25T12:30:24.969538Z"
    }
   },
   "cell_type": "code",
   "source": [
    "import random\n",
    "import time\n",
    "query = random.choice(questions)\n",
    "print(f\"{query}\")\n",
    "\n",
    "scores,indicies = retrival_query_resources(query,embeddings)\n",
    "scores,indicies"
   ],
   "id": "ed4668563a0e55e7",
   "outputs": [
    {
     "name": "stdout",
     "output_type": "stream",
     "text": [
      "What are some proposed theories for what lies beyond the event horizon of a black hole?\n",
      "[INFO] Time taken to get scores on 697 embeddings :0.0\n"
     ]
    },
    {
     "data": {
      "text/plain": [
       "(tensor([0.5775, 0.5505, 0.5415, 0.5292, 0.5291], device='cuda:0'),\n",
       " tensor([182, 567, 166, 148, 466], device='cuda:0'))"
      ]
     },
     "execution_count": 10,
     "metadata": {},
     "output_type": "execute_result"
    }
   ],
   "execution_count": 10
  },
  {
   "metadata": {
    "ExecuteTime": {
     "end_time": "2024-04-25T12:30:26.375995Z",
     "start_time": "2024-04-25T12:30:26.289351Z"
    }
   },
   "cell_type": "code",
   "source": [
    "context_items = [pages_and_chunks[i] for i in indicies]\n",
    "\n",
    "prompt = prompt_fomatting(query,context_items)"
   ],
   "id": "aefe5a6d3dba8c39",
   "outputs": [],
   "execution_count": 11
  },
  {
   "metadata": {
    "ExecuteTime": {
     "end_time": "2024-04-25T12:30:27.075060Z",
     "start_time": "2024-04-25T12:30:27.065967Z"
    }
   },
   "cell_type": "code",
   "source": "prompt",
   "id": "d89007737c78e3ff",
   "outputs": [
    {
     "data": {
      "text/plain": [
       "'<s>[INST] \"Based on the following context , please answer the query.\\n    query: What are some proposed theories for what lies beyond the event horizon of a black hole?\\n    context: - b chapter 7 black holes ain’t so black efore 1970, my research on general relativity had concentrated mainly on the question of whether or not there had been a big bang singularity.however, one evening in november that year, shortly after the birth of my daughter, lucy, i started to think about black holes as i was getting into bed.my disability makes this rather a slow process, so i had plenty of time.at that date there was no precise definition of which points in space-time lay inside a black hole and which lay outside.i had already discussed with roger penrose the idea of defining a black hole as the set of events from which it was not possible to escape to a large distance, which is now the generally accepted definition.it means that the boundary of the black hole, the event horizon, is formed by the light rays that just fail to escape from the black hole, hovering forever just on the edge (fig.7.1).it is a bit like running away from the police and just managing to keep one step ahead but not being able to get clear away!suddenly i realized that the paths of these light rays could never approach one another.if they did, they must eventually run into one another.\\n- 125 p r e d i c t i n g t h e f u t u r e intersecting branes black hole measured.because of this, it is not possible to predict the spin or the wave function of the particle that escapes.it can have different spins and different wave functions, with various probabilities, but it doesn\\'t have a unique spin or wave function.thus it would seem that our power to predict the future would be further reduced.the classical idea of laplace, that one could predict both the positions and the velocities of particles, had to be modified when the uncertainty prin- ciple showed that one could not accurately measure both positions and velocities.however, one could still measure the wave function and use the schrodinger equation to predict what it should be in the future.this would allow one to predict with certainty one combina- tion of position and velocity—which is half of what one could predict according to laplace\\'s ideas.we can predict with certainty that the particles have opposite spins, but if one particle falls into the black hole, there is no prediction we can make with certainty about the (fig.4.22) black holes can be thought of as the intersections of p-branes in the extra dimensions of spacetime.information about the internal states of black holes would be stored as waves on the p- branes.\\n- around the black hole: objects, such as unwary astronauts, can fall through the event horizon into the black hole, but nothing can ever get out of the black hole through the event horizon. (remember that the event horizon is the path in space-time of light that is trying to escape from the black hole, and nothing can travel faster than light.)one could well say of the event horizon what the poet dante said of the entrance to hell: “all hope abandon, ye who enter here.”anything or anyone who falls through the event horizon will soon reach the region of infinite density and the end of time.general relativity predicts that heavy objects that are moving will cause the emission of gravitational waves, ripples in the curvature of space that travel at the speed of light.these are similar to light waves, which are ripples of the electromagnetic field, but they are much harder to detect.they can be observed by the very slight change in separation they produce between neighboring freely moving objects.a number of detectors are being built in the united states, europe, and japan that will measure displacements of one part in a thousand million million million (1 with twenty-one zeros after it), or less than the nucleus of an atom over a distance of ten miles.like light, gravitational waves carry energy away from the objects that emit them.one would therefore expect a system of massive objects to settle down eventually to a stationary state, because the energy in any movement would be carried away by the emission of gravitational waves. (\\n- t chapter 6 black holes he term black hole is of very recent origin.it was coined in 1969 by the american scientist john wheeler as a graphic description of an idea that goes back at least two hundred years, to a time when there were two theories about light: one, which newton favored, was that it was composed of particles; the other was that it was made of waves.we now know that really both theories are correct.by the wave/particle duality of quantum mechanics, light can be regarded as both a wave and a particle.under the theory that light is made up of waves, it was not clear how it would respond to gravity.but if light is composed of particles, one might expect them to be affected by gravity in the same way that cannonballs, rockets, and planets are.at first people thought that particles of light traveled infinitely fast, so gravity would not have been able to slow them down, but the discovery by roemer that light travels at a finite speed meant that gravity might have an important effect.on this assumption, a cambridge don, john michell, wrote a paper in 1783 in the philosophical transactions of the royal society of london in which he pointed out that a star that was sufficiently massive and compact would have such a strong gravitational field that light could not escape: any light emitted from the surface of the star would be dragged back by the star’s gravitational attraction before it could get very far.michell suggested that there might be a large number of stars like this.although we would not be able to see them because the light from them would not reach us, we would still feel their gravitational attraction.\\n- 62 t h e u n i v e r s e i n a n u t s h e l l information falling into black hole information re-stored the area formula for the entropy—or number of internal states—of a black hole suggests that information about what falls into a black hole may be stored like that on a record, and played back as the black hole evaporates. [/INST]'"
      ]
     },
     "execution_count": 12,
     "metadata": {},
     "output_type": "execute_result"
    }
   ],
   "execution_count": 12
  },
  {
   "metadata": {
    "ExecuteTime": {
     "end_time": "2024-04-25T12:30:28.951725Z",
     "start_time": "2024-04-25T12:30:28.935116Z"
    }
   },
   "cell_type": "code",
   "source": "input_ids = tokenizer(prompt,return_tensors='pt').to('cuda')",
   "id": "8ffd022b3f3e0f11",
   "outputs": [],
   "execution_count": 13
  },
  {
   "metadata": {
    "ExecuteTime": {
     "end_time": "2024-04-25T12:36:47.248066Z",
     "start_time": "2024-04-25T12:30:29.648850Z"
    }
   },
   "cell_type": "code",
   "source": [
    "%%time\n",
    "\n",
    "output = model.generate(**input_ids,\n",
    "                        temperature=0.7,\n",
    "                        do_sample=True,\n",
    "                        max_new_tokens=256)\n",
    "\n",
    "output_text = tokenizer.decode(output[0])\n",
    "\n",
    "print(f\"Query: {query}\")"
   ],
   "id": "2a3ef7a61678bf2f",
   "outputs": [
    {
     "name": "stderr",
     "output_type": "stream",
     "text": [
      "C:\\Users\\jains\\miniconda3\\envs\\ML-Stats\\lib\\site-packages\\transformers\\models\\llama\\modeling_llama.py:670: UserWarning: 1Torch was not compiled with flash attention. (Triggered internally at C:\\cb\\pytorch_1000000000000\\work\\aten\\src\\ATen\\native\\transformers\\cuda\\sdp_utils.cpp:455.)\n",
      "  attn_output = torch.nn.functional.scaled_dot_product_attention(\n"
     ]
    },
    {
     "ename": "KeyboardInterrupt",
     "evalue": "",
     "output_type": "error",
     "traceback": [
      "\u001B[1;31m---------------------------------------------------------------------------\u001B[0m",
      "\u001B[1;31mKeyboardInterrupt\u001B[0m                         Traceback (most recent call last)",
      "File \u001B[1;32m<timed exec>:1\u001B[0m\n",
      "File \u001B[1;32m~\\miniconda3\\envs\\ML-Stats\\lib\\site-packages\\torch\\utils\\_contextlib.py:115\u001B[0m, in \u001B[0;36mcontext_decorator.<locals>.decorate_context\u001B[1;34m(*args, **kwargs)\u001B[0m\n\u001B[0;32m    112\u001B[0m \u001B[38;5;129m@functools\u001B[39m\u001B[38;5;241m.\u001B[39mwraps(func)\n\u001B[0;32m    113\u001B[0m \u001B[38;5;28;01mdef\u001B[39;00m \u001B[38;5;21mdecorate_context\u001B[39m(\u001B[38;5;241m*\u001B[39margs, \u001B[38;5;241m*\u001B[39m\u001B[38;5;241m*\u001B[39mkwargs):\n\u001B[0;32m    114\u001B[0m     \u001B[38;5;28;01mwith\u001B[39;00m ctx_factory():\n\u001B[1;32m--> 115\u001B[0m         \u001B[38;5;28;01mreturn\u001B[39;00m func(\u001B[38;5;241m*\u001B[39margs, \u001B[38;5;241m*\u001B[39m\u001B[38;5;241m*\u001B[39mkwargs)\n",
      "File \u001B[1;32m~\\miniconda3\\envs\\ML-Stats\\lib\\site-packages\\transformers\\generation\\utils.py:1575\u001B[0m, in \u001B[0;36mGenerationMixin.generate\u001B[1;34m(self, inputs, generation_config, logits_processor, stopping_criteria, prefix_allowed_tokens_fn, synced_gpus, assistant_model, streamer, negative_prompt_ids, negative_prompt_attention_mask, **kwargs)\u001B[0m\n\u001B[0;32m   1567\u001B[0m     input_ids, model_kwargs \u001B[38;5;241m=\u001B[39m \u001B[38;5;28mself\u001B[39m\u001B[38;5;241m.\u001B[39m_expand_inputs_for_generation(\n\u001B[0;32m   1568\u001B[0m         input_ids\u001B[38;5;241m=\u001B[39minput_ids,\n\u001B[0;32m   1569\u001B[0m         expand_size\u001B[38;5;241m=\u001B[39mgeneration_config\u001B[38;5;241m.\u001B[39mnum_return_sequences,\n\u001B[0;32m   1570\u001B[0m         is_encoder_decoder\u001B[38;5;241m=\u001B[39m\u001B[38;5;28mself\u001B[39m\u001B[38;5;241m.\u001B[39mconfig\u001B[38;5;241m.\u001B[39mis_encoder_decoder,\n\u001B[0;32m   1571\u001B[0m         \u001B[38;5;241m*\u001B[39m\u001B[38;5;241m*\u001B[39mmodel_kwargs,\n\u001B[0;32m   1572\u001B[0m     )\n\u001B[0;32m   1574\u001B[0m     \u001B[38;5;66;03m# 13. run sample\u001B[39;00m\n\u001B[1;32m-> 1575\u001B[0m     result \u001B[38;5;241m=\u001B[39m \u001B[38;5;28mself\u001B[39m\u001B[38;5;241m.\u001B[39m_sample(\n\u001B[0;32m   1576\u001B[0m         input_ids,\n\u001B[0;32m   1577\u001B[0m         logits_processor\u001B[38;5;241m=\u001B[39mprepared_logits_processor,\n\u001B[0;32m   1578\u001B[0m         logits_warper\u001B[38;5;241m=\u001B[39mlogits_warper,\n\u001B[0;32m   1579\u001B[0m         stopping_criteria\u001B[38;5;241m=\u001B[39mprepared_stopping_criteria,\n\u001B[0;32m   1580\u001B[0m         pad_token_id\u001B[38;5;241m=\u001B[39mgeneration_config\u001B[38;5;241m.\u001B[39mpad_token_id,\n\u001B[0;32m   1581\u001B[0m         eos_token_id\u001B[38;5;241m=\u001B[39mgeneration_config\u001B[38;5;241m.\u001B[39meos_token_id,\n\u001B[0;32m   1582\u001B[0m         output_scores\u001B[38;5;241m=\u001B[39mgeneration_config\u001B[38;5;241m.\u001B[39moutput_scores,\n\u001B[0;32m   1583\u001B[0m         output_logits\u001B[38;5;241m=\u001B[39mgeneration_config\u001B[38;5;241m.\u001B[39moutput_logits,\n\u001B[0;32m   1584\u001B[0m         return_dict_in_generate\u001B[38;5;241m=\u001B[39mgeneration_config\u001B[38;5;241m.\u001B[39mreturn_dict_in_generate,\n\u001B[0;32m   1585\u001B[0m         synced_gpus\u001B[38;5;241m=\u001B[39msynced_gpus,\n\u001B[0;32m   1586\u001B[0m         streamer\u001B[38;5;241m=\u001B[39mstreamer,\n\u001B[0;32m   1587\u001B[0m         \u001B[38;5;241m*\u001B[39m\u001B[38;5;241m*\u001B[39mmodel_kwargs,\n\u001B[0;32m   1588\u001B[0m     )\n\u001B[0;32m   1590\u001B[0m \u001B[38;5;28;01melif\u001B[39;00m generation_mode \u001B[38;5;241m==\u001B[39m GenerationMode\u001B[38;5;241m.\u001B[39mBEAM_SEARCH:\n\u001B[0;32m   1591\u001B[0m     \u001B[38;5;66;03m# 11. prepare beam search scorer\u001B[39;00m\n\u001B[0;32m   1592\u001B[0m     beam_scorer \u001B[38;5;241m=\u001B[39m BeamSearchScorer(\n\u001B[0;32m   1593\u001B[0m         batch_size\u001B[38;5;241m=\u001B[39mbatch_size,\n\u001B[0;32m   1594\u001B[0m         num_beams\u001B[38;5;241m=\u001B[39mgeneration_config\u001B[38;5;241m.\u001B[39mnum_beams,\n\u001B[1;32m   (...)\u001B[0m\n\u001B[0;32m   1599\u001B[0m         max_length\u001B[38;5;241m=\u001B[39mgeneration_config\u001B[38;5;241m.\u001B[39mmax_length,\n\u001B[0;32m   1600\u001B[0m     )\n",
      "File \u001B[1;32m~\\miniconda3\\envs\\ML-Stats\\lib\\site-packages\\transformers\\generation\\utils.py:2735\u001B[0m, in \u001B[0;36mGenerationMixin._sample\u001B[1;34m(self, input_ids, logits_processor, stopping_criteria, logits_warper, max_length, pad_token_id, eos_token_id, output_attentions, output_hidden_states, output_scores, output_logits, return_dict_in_generate, synced_gpus, streamer, **model_kwargs)\u001B[0m\n\u001B[0;32m   2733\u001B[0m \u001B[38;5;66;03m# sample\u001B[39;00m\n\u001B[0;32m   2734\u001B[0m probs \u001B[38;5;241m=\u001B[39m nn\u001B[38;5;241m.\u001B[39mfunctional\u001B[38;5;241m.\u001B[39msoftmax(next_token_scores, dim\u001B[38;5;241m=\u001B[39m\u001B[38;5;241m-\u001B[39m\u001B[38;5;241m1\u001B[39m)\n\u001B[1;32m-> 2735\u001B[0m next_tokens \u001B[38;5;241m=\u001B[39m \u001B[43mtorch\u001B[49m\u001B[38;5;241;43m.\u001B[39;49m\u001B[43mmultinomial\u001B[49m\u001B[43m(\u001B[49m\u001B[43mprobs\u001B[49m\u001B[43m,\u001B[49m\u001B[43m \u001B[49m\u001B[43mnum_samples\u001B[49m\u001B[38;5;241;43m=\u001B[39;49m\u001B[38;5;241;43m1\u001B[39;49m\u001B[43m)\u001B[49m\u001B[38;5;241m.\u001B[39msqueeze(\u001B[38;5;241m1\u001B[39m)\n\u001B[0;32m   2737\u001B[0m \u001B[38;5;66;03m# finished sentences should have their next token be a padding token\u001B[39;00m\n\u001B[0;32m   2738\u001B[0m \u001B[38;5;28;01mif\u001B[39;00m eos_token_id \u001B[38;5;129;01mis\u001B[39;00m \u001B[38;5;129;01mnot\u001B[39;00m \u001B[38;5;28;01mNone\u001B[39;00m:\n",
      "\u001B[1;31mKeyboardInterrupt\u001B[0m: "
     ]
    }
   ],
   "execution_count": 14
  },
  {
   "metadata": {
    "ExecuteTime": {
     "end_time": "2024-04-25T12:25:44.642741Z",
     "start_time": "2024-04-25T12:25:44.627258Z"
    }
   },
   "cell_type": "code",
   "source": "output_text",
   "id": "ec6ec738abdd6358",
   "outputs": [
    {
     "data": {
      "text/plain": [
       "'<s><s> [INST] \"Based on the following context , please answer the query.\\n    query: How do black holes distort space and time around them, and how is this effect observed?\\n    context: - 35 t h e s h a p e o f t i m e general relativity combines the time dimension with the three dimensions of space to form what is called spacetime (see page 3 3 , fig.2 .3 ) .the theory incorporates the effect of gravity by saying that the distribution of matter and energy in the universe warps and distorts spacetime, so that it is not flat.objects in this spacetime try to move in straight lines, but because spacetime is curved, their paths appear bent.they move as if affected by a gravitational field. as a rough analogy, not to be taken too literally, imagine a sheet of rubber.one can place a large ball on the sheet to represent the sun.the weight of the ball will depress the sheet and cause it to be curved near the sun.if one now rolls little ball bearings on the sheet, they won\\'t roll straight across to the other side but instead will go around the heavy weight, like planets orbiting the sun (fig.\\n- the quantum origin and evolution of the universe will be discussed in the next chapter.) another possible behavior is illustrated by taking imaginary time to be degrees of longitude on the earth.all the lines of longi- tude meet at the north and south poles (fig.2.21, see page 61) thus time stands still there, in the sense that an increase of imagi- nary time, or of degrees of longitude, leaves one in the same spot. this is very similar to the way that ordinary time appears to stand still on the horizon of a black hole.we have come to recognize that this standing still of real and imaginary time (either both stand still or neither does) means that the spacetime has a temperature, as i discovered for black holes.not only does a black hole have a tem- perature, it also behaves as if it has a quantity called entropy.t h e entropy is a measure of the number of internal states (ways it could be configured on the inside) that the black hole could have without looking any different to an outside observer, who can only observe its mass, rotation, and charge.this black hole entropy is given by a very simple formula i discovered in 1974.it equals the area of the horizon of the black hole: there is one bit of information about the internal state of the black hole for each fundamental unit of area of\\n- 2 1 a b r i e f h i s t o r y o f r e l a t i v i t y (fig.1.13) l i g h t c u r v e s light from a star passing near the sun is deflected by the way the mass of the sun curves spacetime (a).this produces a slight shift in the apparent position of the star as seen from the earth (b).this can be observed during an eclipse. the sun during an eclipse (fig.1.13).here was direct evidence that space and time are warped, and it spurred the greatest change in our perception of the universe in which we live since euclid wrote his elements of geometry around 300 b.c. einstein\\'s general theory of relativity transformed space and time from a passive background in which events take place to active participants in the dynamics of the universe.this led to a great problem that remains at the forefront of physics in the twenty-first century.t h e universe is full of matter, and matter warps spacetime in such a way that bodies fall together.einstein found that his equa- tions didn\\'t have a solution that described a static universe, unchanging in time.rather than give up such an everlasting uni- verse, which he and most other people believed in, he fudged the equations by adding a term called the cosmological constant, which warped spacetime in the opposite sense, so that bodies move apart.\\n- around the black hole: objects, such as unwary astronauts, can fall through the event horizon into the black hole, but nothing can ever get out of the black hole through the event horizon. (remember that the event horizon is the path in space-time of light that is trying to escape from the black hole, and nothing can travel faster than light.)one could well say of the event horizon what the poet dante said of the entrance to hell: “all hope abandon, ye who enter here.”anything or anyone who falls through the event horizon will soon reach the region of infinite density and the end of time.general relativity predicts that heavy objects that are moving will cause the emission of gravitational waves, ripples in the curvature of space that travel at the speed of light.these are similar to light waves, which are ripples of the electromagnetic field, but they are much harder to detect.they can be observed by the very slight change in separation they produce between neighboring freely moving objects.a number of detectors are being built in the united states, europe, and japan that will measure displacements of one part in a thousand million million million (1 with twenty-one zeros after it), or less than the nucleus of an atom over a distance of ten miles.like light, gravitational waves carry energy away from the objects that emit them.one would therefore expect a system of massive objects to settle down eventually to a stationary state, because the energy in any movement would be carried away by the emission of gravitational waves. (\\n- perhaps the most impressive are the giant black holes that occur in the centers of galaxies and quasars (fig.4 .1 5 ) . the properties of black holes that have been discussed thus far don\\'t raise any great problems with determinism.time will come to an end for an astronaut who falls into a black hole and hits the sin- gularity.however, in general relativity, one is free to measure time at different rates in different places.one could therefore speed up the astronaut\\'s watch as he or she approached the singularity, so that it still registered an infinite interval of time.on the time-and-distance diagram (fig.4 .1 4 ) , the surfaces of constant values of this new time would be all crowded together at the center, below the point where the singularity appeared. [/INST]\\n\\n#### You\\'ve reached the end of your free preview.\\n\\nWant to read all 25 pages?\\n\\n- Spring \\'17\\n- Black holes, General relativity</s>'"
      ]
     },
     "execution_count": 22,
     "metadata": {},
     "output_type": "execute_result"
    }
   ],
   "execution_count": 22
  },
  {
   "metadata": {
    "ExecuteTime": {
     "end_time": "2024-04-25T12:25:56.875109Z",
     "start_time": "2024-04-25T12:25:56.859109Z"
    }
   },
   "cell_type": "code",
   "source": "output_text.replace(prompt,\" \").replace(prompt, \"\").replace(\"<bos>\", \"\").replace(\"<eos>\", \"\").replace(\"\\n\",\" \")",
   "id": "be28bd8ff6f6de74",
   "outputs": [
    {
     "data": {
      "text/plain": [
       "'<s><s> [INST] \"Based on the following context , please answer the query.     query: How do black holes distort space and time around them, and how is this effect observed?     context: - 35 t h e s h a p e o f t i m e general relativity combines the time dimension with the three dimensions of space to form what is called spacetime (see page 3 3 , fig.2 .3 ) .the theory incorporates the effect of gravity by saying that the distribution of matter and energy in the universe warps and distorts spacetime, so that it is not flat.objects in this spacetime try to move in straight lines, but because spacetime is curved, their paths appear bent.they move as if affected by a gravitational field. as a rough analogy, not to be taken too literally, imagine a sheet of rubber.one can place a large ball on the sheet to represent the sun.the weight of the ball will depress the sheet and cause it to be curved near the sun.if one now rolls little ball bearings on the sheet, they won\\'t roll straight across to the other side but instead will go around the heavy weight, like planets orbiting the sun (fig. - the quantum origin and evolution of the universe will be discussed in the next chapter.) another possible behavior is illustrated by taking imaginary time to be degrees of longitude on the earth.all the lines of longi- tude meet at the north and south poles (fig.2.21, see page 61) thus time stands still there, in the sense that an increase of imagi- nary time, or of degrees of longitude, leaves one in the same spot. this is very similar to the way that ordinary time appears to stand still on the horizon of a black hole.we have come to recognize that this standing still of real and imaginary time (either both stand still or neither does) means that the spacetime has a temperature, as i discovered for black holes.not only does a black hole have a tem- perature, it also behaves as if it has a quantity called entropy.t h e entropy is a measure of the number of internal states (ways it could be configured on the inside) that the black hole could have without looking any different to an outside observer, who can only observe its mass, rotation, and charge.this black hole entropy is given by a very simple formula i discovered in 1974.it equals the area of the horizon of the black hole: there is one bit of information about the internal state of the black hole for each fundamental unit of area of - 2 1 a b r i e f h i s t o r y o f r e l a t i v i t y (fig.1.13) l i g h t c u r v e s light from a star passing near the sun is deflected by the way the mass of the sun curves spacetime (a).this produces a slight shift in the apparent position of the star as seen from the earth (b).this can be observed during an eclipse. the sun during an eclipse (fig.1.13).here was direct evidence that space and time are warped, and it spurred the greatest change in our perception of the universe in which we live since euclid wrote his elements of geometry around 300 b.c. einstein\\'s general theory of relativity transformed space and time from a passive background in which events take place to active participants in the dynamics of the universe.this led to a great problem that remains at the forefront of physics in the twenty-first century.t h e universe is full of matter, and matter warps spacetime in such a way that bodies fall together.einstein found that his equa- tions didn\\'t have a solution that described a static universe, unchanging in time.rather than give up such an everlasting uni- verse, which he and most other people believed in, he fudged the equations by adding a term called the cosmological constant, which warped spacetime in the opposite sense, so that bodies move apart. - around the black hole: objects, such as unwary astronauts, can fall through the event horizon into the black hole, but nothing can ever get out of the black hole through the event horizon. (remember that the event horizon is the path in space-time of light that is trying to escape from the black hole, and nothing can travel faster than light.)one could well say of the event horizon what the poet dante said of the entrance to hell: “all hope abandon, ye who enter here.”anything or anyone who falls through the event horizon will soon reach the region of infinite density and the end of time.general relativity predicts that heavy objects that are moving will cause the emission of gravitational waves, ripples in the curvature of space that travel at the speed of light.these are similar to light waves, which are ripples of the electromagnetic field, but they are much harder to detect.they can be observed by the very slight change in separation they produce between neighboring freely moving objects.a number of detectors are being built in the united states, europe, and japan that will measure displacements of one part in a thousand million million million (1 with twenty-one zeros after it), or less than the nucleus of an atom over a distance of ten miles.like light, gravitational waves carry energy away from the objects that emit them.one would therefore expect a system of massive objects to settle down eventually to a stationary state, because the energy in any movement would be carried away by the emission of gravitational waves. ( - perhaps the most impressive are the giant black holes that occur in the centers of galaxies and quasars (fig.4 .1 5 ) . the properties of black holes that have been discussed thus far don\\'t raise any great problems with determinism.time will come to an end for an astronaut who falls into a black hole and hits the sin- gularity.however, in general relativity, one is free to measure time at different rates in different places.one could therefore speed up the astronaut\\'s watch as he or she approached the singularity, so that it still registered an infinite interval of time.on the time-and-distance diagram (fig.4 .1 4 ) , the surfaces of constant values of this new time would be all crowded together at the center, below the point where the singularity appeared. [/INST]  #### You\\'ve reached the end of your free preview.  Want to read all 25 pages?  - Spring \\'17 - Black holes, General relativity</s>'"
      ]
     },
     "execution_count": 23,
     "metadata": {},
     "output_type": "execute_result"
    }
   ],
   "execution_count": 23
  },
  {
   "metadata": {},
   "cell_type": "code",
   "outputs": [],
   "execution_count": null,
   "source": "",
   "id": "85d716e784c4889a"
  }
 ],
 "metadata": {
  "kernelspec": {
   "display_name": "Python 3",
   "language": "python",
   "name": "python3"
  },
  "language_info": {
   "codemirror_mode": {
    "name": "ipython",
    "version": 2
   },
   "file_extension": ".py",
   "mimetype": "text/x-python",
   "name": "python",
   "nbconvert_exporter": "python",
   "pygments_lexer": "ipython2",
   "version": "2.7.6"
  }
 },
 "nbformat": 4,
 "nbformat_minor": 5
}
