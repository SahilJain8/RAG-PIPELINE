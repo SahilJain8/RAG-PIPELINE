{
 "cells": [
  {
   "cell_type": "code",
   "execution_count": 13,
   "id": "initial_id",
   "metadata": {
    "ExecuteTime": {
     "end_time": "2024-04-27T08:21:14.063002Z",
     "start_time": "2024-04-27T08:21:13.882979Z"
    }
   },
   "outputs": [
    {
     "name": "stdout",
     "output_type": "stream",
     "text": [
      "[INFO] using cuda\n"
     ]
    }
   ],
   "source": [
    "import fitz\n",
    "import os\n",
    "import numpy as np\n",
    "from tqdm.auto import tqdm\n",
    "import re\n",
    "import torch\n",
    "import pandas as pd\n",
    "import gc\n",
    "torch.cuda.empty_cache()\n",
    "gc.collect()\n",
    "\n",
    "\n",
    "device = 'cuda' if torch.cuda.is_available else \"cpu\"\n",
    "\n",
    "print(f\"[INFO] using {device}\")"
   ]
  },
  {
   "cell_type": "code",
   "execution_count": 14,
   "id": "51965d94d5e87d19",
   "metadata": {
    "ExecuteTime": {
     "end_time": "2024-04-25T05:43:13.287332Z",
     "start_time": "2024-04-25T05:43:13.267734Z"
    }
   },
   "outputs": [],
   "source": [
    "def text_formater(text:str) -> str:\n",
    "    return_text = text.replace(\"\\n\",\" \")\n",
    "    return_text = return_text.lower()\n",
    "    return return_text\n",
    "\n",
    "def open_and_clean_pdf(path1:str,pages_and_text:list,page_number=0) :\n",
    "    pdf = fitz.open(path1)\n",
    "    for pages_no,pages_text in tqdm(enumerate(pdf)):\n",
    "        text = pages_text.get_text()\n",
    "        text = text_formater(text)\n",
    "        pages_and_text.append( {\n",
    "            \"page_number\":pages_no - page_number,\n",
    "            \"page_char_count\": len(text),\n",
    "            \"number_of_tokens\":len(text)/4,\n",
    "            \"pages_sentence_count\":len(text.split(\".\")),\n",
    "             \"page_text\":text,\n",
    "            \"Book_Name\":path1.replace(\".pdf\",\" \")\n",
    "        })\n",
    "        "
   ]
  },
  {
   "cell_type": "code",
   "execution_count": 15,
   "id": "0c818013-b37a-4ba8-9561-9c8608ddfec2",
   "metadata": {
    "ExecuteTime": {
     "end_time": "2024-04-25T05:43:15.128948Z",
     "start_time": "2024-04-25T05:43:15.125056Z"
    }
   },
   "outputs": [],
   "source": [
    "pages_and_text = []"
   ]
  },
  {
   "cell_type": "code",
   "execution_count": 16,
   "id": "06732596-dd56-428f-9ea2-cfae2d67308f",
   "metadata": {
    "ExecuteTime": {
     "end_time": "2024-04-25T05:43:16.873241Z",
     "start_time": "2024-04-25T05:43:16.598324Z"
    }
   },
   "outputs": [
    {
     "data": {
      "application/vnd.jupyter.widget-view+json": {
       "model_id": "0c451f7721f8478cb07785951746493a",
       "version_major": 2,
       "version_minor": 0
      },
      "text/plain": [
       "0it [00:00, ?it/s]"
      ]
     },
     "metadata": {},
     "output_type": "display_data"
    }
   ],
   "source": [
    "open_and_clean_pdf(\"A Brief History of Time.pdf\",pages_and_text,7)"
   ]
  },
  {
   "cell_type": "code",
   "execution_count": 17,
   "id": "d7239a7a-4057-44a5-829a-cd2c7af5eab2",
   "metadata": {
    "ExecuteTime": {
     "end_time": "2024-04-25T05:43:18.216621Z",
     "start_time": "2024-04-25T05:43:18.031302Z"
    }
   },
   "outputs": [
    {
     "data": {
      "application/vnd.jupyter.widget-view+json": {
       "model_id": "648be421584848d98453a0bd7c4f207b",
       "version_major": 2,
       "version_minor": 0
      },
      "text/plain": [
       "0it [00:00, ?it/s]"
      ]
     },
     "metadata": {},
     "output_type": "display_data"
    }
   ],
   "source": [
    "open_and_clean_pdf(\"The Universe in a Nutshell.pdf\",pages_and_text,11)"
   ]
  },
  {
   "cell_type": "code",
   "execution_count": 18,
   "id": "412f429d-01d7-46d8-a23d-98a5b7442595",
   "metadata": {
    "ExecuteTime": {
     "end_time": "2024-04-25T05:43:19.311008Z",
     "start_time": "2024-04-25T05:43:19.294007Z"
    }
   },
   "outputs": [
    {
     "data": {
      "text/plain": [
       "404"
      ]
     },
     "execution_count": 18,
     "metadata": {},
     "output_type": "execute_result"
    }
   ],
   "source": [
    "len(pages_and_text)"
   ]
  },
  {
   "cell_type": "code",
   "execution_count": 19,
   "id": "d918d279-ffc9-4b1e-9ee8-62d860ac62b6",
   "metadata": {
    "ExecuteTime": {
     "end_time": "2024-04-25T05:43:21.023181Z",
     "start_time": "2024-04-25T05:43:20.366253Z"
    }
   },
   "outputs": [
    {
     "data": {
      "text/html": [
       "<div>\n",
       "<style scoped>\n",
       "    .dataframe tbody tr th:only-of-type {\n",
       "        vertical-align: middle;\n",
       "    }\n",
       "\n",
       "    .dataframe tbody tr th {\n",
       "        vertical-align: top;\n",
       "    }\n",
       "\n",
       "    .dataframe thead th {\n",
       "        text-align: right;\n",
       "    }\n",
       "</style>\n",
       "<table border=\"1\" class=\"dataframe\">\n",
       "  <thead>\n",
       "    <tr style=\"text-align: right;\">\n",
       "      <th></th>\n",
       "      <th>page_number</th>\n",
       "      <th>page_char_count</th>\n",
       "      <th>number_of_tokens</th>\n",
       "      <th>pages_sentence_count</th>\n",
       "    </tr>\n",
       "  </thead>\n",
       "  <tbody>\n",
       "    <tr>\n",
       "      <th>count</th>\n",
       "      <td>404.00</td>\n",
       "      <td>404.00</td>\n",
       "      <td>404.00</td>\n",
       "      <td>404.00</td>\n",
       "    </tr>\n",
       "    <tr>\n",
       "      <th>mean</th>\n",
       "      <td>92.05</td>\n",
       "      <td>1468.07</td>\n",
       "      <td>367.02</td>\n",
       "      <td>12.60</td>\n",
       "    </tr>\n",
       "    <tr>\n",
       "      <th>std</th>\n",
       "      <td>59.36</td>\n",
       "      <td>931.30</td>\n",
       "      <td>232.83</td>\n",
       "      <td>7.48</td>\n",
       "    </tr>\n",
       "    <tr>\n",
       "      <th>min</th>\n",
       "      <td>-11.00</td>\n",
       "      <td>0.00</td>\n",
       "      <td>0.00</td>\n",
       "      <td>1.00</td>\n",
       "    </tr>\n",
       "    <tr>\n",
       "      <th>25%</th>\n",
       "      <td>41.00</td>\n",
       "      <td>644.00</td>\n",
       "      <td>161.00</td>\n",
       "      <td>7.00</td>\n",
       "    </tr>\n",
       "    <tr>\n",
       "      <th>50%</th>\n",
       "      <td>91.50</td>\n",
       "      <td>1457.50</td>\n",
       "      <td>364.38</td>\n",
       "      <td>14.00</td>\n",
       "    </tr>\n",
       "    <tr>\n",
       "      <th>75%</th>\n",
       "      <td>142.00</td>\n",
       "      <td>2465.50</td>\n",
       "      <td>616.38</td>\n",
       "      <td>18.00</td>\n",
       "    </tr>\n",
       "    <tr>\n",
       "      <th>max</th>\n",
       "      <td>207.00</td>\n",
       "      <td>3042.00</td>\n",
       "      <td>760.50</td>\n",
       "      <td>34.00</td>\n",
       "    </tr>\n",
       "  </tbody>\n",
       "</table>\n",
       "</div>"
      ],
      "text/plain": [
       "       page_number  page_char_count  number_of_tokens  pages_sentence_count\n",
       "count       404.00           404.00            404.00                404.00\n",
       "mean         92.05          1468.07            367.02                 12.60\n",
       "std          59.36           931.30            232.83                  7.48\n",
       "min         -11.00             0.00              0.00                  1.00\n",
       "25%          41.00           644.00            161.00                  7.00\n",
       "50%          91.50          1457.50            364.38                 14.00\n",
       "75%         142.00          2465.50            616.38                 18.00\n",
       "max         207.00          3042.00            760.50                 34.00"
      ]
     },
     "execution_count": 19,
     "metadata": {},
     "output_type": "execute_result"
    }
   ],
   "source": [
    "import pandas as pd\n",
    "df = pd.DataFrame(pages_and_text)\n",
    "\n",
    "df.describe().round(2)"
   ]
  },
  {
   "cell_type": "code",
   "execution_count": 20,
   "id": "e8d47a80-3d79-4afa-8996-1d56baea5e70",
   "metadata": {
    "ExecuteTime": {
     "end_time": "2024-04-25T05:43:22.657094Z",
     "start_time": "2024-04-25T05:43:22.642951Z"
    }
   },
   "outputs": [
    {
     "data": {
      "text/plain": [
       "[{'page_number': -4,\n",
       "  'page_char_count': 1282,\n",
       "  'number_of_tokens': 320.5,\n",
       "  'pages_sentence_count': 26,\n",
       "  'page_text': 'a brief history of time a bantam book publishing history bantam illustrated hardcover edition published november 1996 bantam hardcover edition/september 1998 bantam trade paperback edition/september 1998 all rights reserved. copyright © 1988, 1996 by stephen hawking illustrations copyright © 1988 by ron miller book design by glen m. edelstein no part of this book may be reproduced or transmitted in any form or by any means, electronic or mechanical, including photocopying, recording, or by any information storage and retrieval system, without permission in writing from the publisher. for information address: bantam books. library of congress cataloging-in-publication data hawking, s. w. (stephen w.) a brief history of time / stephen hawking. p.   cm. includes index. eisbn: 978-0-55389692-3 1. cosmology. i. title. qb981.h377   1998 523.1—dc21      98-21874 bantam books are published by bantam books, a division of random house, inc. its trademark, consisting of the words “bantam books” and the portrayal of a rooster, is registered in the u.s. patent and trademark office and in other countries. marca registrada. bantam books, 1745 broadway, new york, new york 10019. cover design and illustration pere 360, based on a photograph © david montgomery/getty images. v3.1 ',\n",
       "  'Book_Name': 'A Brief History of Time '},\n",
       " {'page_number': 190,\n",
       "  'page_char_count': 796,\n",
       "  'number_of_tokens': 199.0,\n",
       "  'pages_sentence_count': 8,\n",
       "  'page_text': '193  b r a n e  n e w  w o r l d  it became smaller than the radius of curvature of the saddle-like  extra dimensions. at this point the gravitational waves emitted by  the black hole would begin to escape freely into the extra dimen- sions. to someone on the brane, the black h o l e — o r dark star as  michell called it (see chapter 4 ) — w o u l d appear to be emitting  dark radiation, radiation that cannot be observed directly on the  brane but whose existence could be inferred from the fact that the  black hole was losing mass.  (fig. 7.16)  a black hole in our world on the  brane would extend into the extra  dimensions. if the black hole is small,  it would be almost round, but a large  black hole on the brane would  extend to a pancake-shaped black  hole in the extra dimension.  ',\n",
       "  'Book_Name': 'The Universe in a Nutshell '},\n",
       " {'page_number': 147,\n",
       "  'page_char_count': 2591,\n",
       "  'number_of_tokens': 647.75,\n",
       "  'pages_sentence_count': 25,\n",
       "  'page_text': \"150  t h e  u n i v e r s e  i n  a  n u t s h e l l  it seems, therefore, that quantum theory allows time travel on  a microscopic scale. however, this is not much use for science fic- tion purposes, such as going back and killing your grandfather. t h e  question therefore is: can the probability in the sum over histories  be peaked around spacetimes with macroscopic time loops?  o n e can investigate this question by studying the sum over  histories of matter fields in a series of background spacetimes that  get closer and closer to admitting time loops. o n e would expect  something dramatic to happen when time loops first appear, and  this is borne out in a simple example that i studied with my student  michael cassidy.  t h e background spacetimes in the series we studied were  closely related to what is called the einstein universe, the spacetime  that einstein proposed when he believed that the universe was stat- ic and unchanging in time, neither expanding nor contracting (see  chapter 1). in the einstein universe time runs from the infinite past  to the infinite future. t h e space directions, however, are finite and  close on themselves, like the surface of the earth but with one more  dimension. o n e can picture this spacetime as a cylinder with the  long axis being the time direction and the cross section being the  three space directions (fig. 5 . 1 6 ) .  t h e einstein universe does not represent the universe we live in  because it is not expanding. nevertheless, it is a convenient back- ground to use when discussing time travel, because it is simple  enough that one can do the sum over histories. forgetting about time  travel for the moment, consider matter in an einstein universe that is  rotating about some axis. if you were on the axis, you could remain  at the same point of space, just as you do when standing at the cen- ter of a children's carousel. but if you were not on the axis, you would  be moving through space as you rotated about the axis. t h e further  you were from the axis, the faster you would be moving (fig. 5.17).  so if the universe were infinite in space, points sufficiently far from  the axis would have to be rotating faster than light. however,  because the einstein universe is finite in the space directions, there  is a critical rate of rotation below which no part of the universe is  rotating faster than light.  (fig. 5 . 1 6 )  the einstein universe is like a cylinder:  it is finite in space and constant in  time. because of its finite size, it can  rotate at less than the speed of light  everywhere.  \",\n",
       "  'Book_Name': 'The Universe in a Nutshell '},\n",
       " {'page_number': 90,\n",
       "  'page_char_count': 2180,\n",
       "  'number_of_tokens': 545.0,\n",
       "  'pages_sentence_count': 30,\n",
       "  'page_text': '93  t h e  u n i v e r s e  i n  a  n u t s h e l l  w h o l e s a l e  p r i c e i n d e x -  i n f l a t i o n a n d  h y p e r i n f l a t i o n  july 1914  1.0  january 1919  2.6  july 1919  3.4  january 1920  12.6  january 1921  14.4  july 1921  14.3  january 1922  3 6 . 7  july 1922  1 0 0 . 6  january 1923  2 , 7 8 5 . 0  july 1923  1 9 4 , 0 0 0 . 0  november 1923  7 2 6 , 0 0 0 , 0 0 0 , 0 0 0 . 0  one german mark in 1914  ten thousand marks 1923  two million marks 1923  ten million marks 1923  one milliard marks 1923  together to form galaxies and stars, and life, let alone intelligent life  like us, could not develop. thus although histories of the universe  in imaginary time that are perfectly round spheres are allowed by  the notion of multiple histories, they are not of much interest.  however, histories in imaginary time that are slightly flattened at  the south pole of the spheres are much more relevant (fig. 3.15).  in this case, the corresponding history in real time will expand  in an accelerated, inflationary manner at first. but then the expansion  will begin to slow down, and galaxies can form. in order for intelli- gent life to be able to develop, the flattening at the south pole must  be very slight. this will mean that the universe will expand initially  by an enormous amount. t h e record level of monetary inflation  occurred in germany between the world wars, when prices rose bil- lions of times—but the amount of inflation that must have occurred  in the universe is at least a billion billion billion times that (fig. 3.16).  (fig. 3.16)  i n f l a t i o n  m a y b e a l a w o f  n a t u r e  inflation in germany rose after the  peace until  by february  1920 the  price level was five times as high as it  had been in 1918. after july 1922 the  phase of hyperinflation began. all con- fidence in money vanished and the  price index rose faster and faster for  fifteen months, outpacing the printing  presses, which  could  not  produce  money as fast as it was depreciating.  by late 1923, 300 paper mills were  working at top speed and 150 printing  companies had 2,000 presses running  day and night turning out currency.  ',\n",
       "  'Book_Name': 'The Universe in a Nutshell '},\n",
       " {'page_number': 87,\n",
       "  'page_char_count': 1171,\n",
       "  'number_of_tokens': 292.75,\n",
       "  'pages_sentence_count': 14,\n",
       "  'page_text': '90  t h e  u n i v e r s e  i n  a  n u t s h e l l  (fig. 3 . 1 3 )  the simplest imaginary time history  without boundary is a sphere.  this determines a history in real  time that expands in an inflationary  manner.  similarly, the orbits of electrons in atoms would not be stable,  so matter as we know it would not exist. thus, although the idea of  multiple histories would allow any number of nearly flat directions,  only histories with three flat directions will contain intelligent  beings. only in such histories will the question be asked, \"why  does space have three dimensions?\"  t h e simplest history of the universe in imaginary time is a  round sphere, like the surface of the earth, but with two more dimen- sions (fig. 3 . 1 3 ) . it determines a history of the universe in the real time  that we experience, in which the universe is the same at every point of  space and is expanding in time. in these respects, it is like the universe  we live in. but the rate of expansion is very rapid, and it keeps on get- ting faster. such accelerating expansion is called inflation, because it is  like the way prices go up and up at an ever-increasing rate.  ',\n",
       "  'Book_Name': 'The Universe in a Nutshell '}]"
      ]
     },
     "execution_count": 20,
     "metadata": {},
     "output_type": "execute_result"
    }
   ],
   "source": [
    "import random\n",
    "\n",
    "random.sample(pages_and_text,k=5)"
   ]
  },
  {
   "cell_type": "code",
   "execution_count": 21,
   "id": "52c1a2fc-a152-40e7-86da-5751d4bd29fb",
   "metadata": {
    "ExecuteTime": {
     "end_time": "2024-04-25T05:43:30.317897Z",
     "start_time": "2024-04-25T05:43:26.860646Z"
    }
   },
   "outputs": [],
   "source": [
    "from spacy.lang.en import English\n",
    "\n",
    "nlp = English()"
   ]
  },
  {
   "cell_type": "code",
   "execution_count": 22,
   "id": "8ea42a2f-a4a1-4bc5-9a50-78dbb96b4a3a",
   "metadata": {
    "ExecuteTime": {
     "end_time": "2024-04-25T05:43:32.488617Z",
     "start_time": "2024-04-25T05:43:32.477581Z"
    }
   },
   "outputs": [
    {
     "data": {
      "text/plain": [
       "<spacy.pipeline.sentencizer.Sentencizer at 0x277ff064740>"
      ]
     },
     "execution_count": 22,
     "metadata": {},
     "output_type": "execute_result"
    }
   ],
   "source": [
    "nlp.add_pipe(\"sentencizer\")"
   ]
  },
  {
   "cell_type": "code",
   "execution_count": 23,
   "id": "79dbecd4-36db-4710-b073-d938ae4f19eb",
   "metadata": {
    "ExecuteTime": {
     "end_time": "2024-04-25T05:43:52.145376Z",
     "start_time": "2024-04-25T05:43:51.739585Z"
    }
   },
   "outputs": [
    {
     "data": {
      "application/vnd.jupyter.widget-view+json": {
       "model_id": "608d5004b7b64f6f85779dcc86e3f848",
       "version_major": 2,
       "version_minor": 0
      },
      "text/plain": [
       "  0%|          | 0/404 [00:00<?, ?it/s]"
      ]
     },
     "metadata": {},
     "output_type": "display_data"
    }
   ],
   "source": [
    "for item in tqdm(pages_and_text):\n",
    "    page_text = item['page_text']\n",
    "    item['pages_sentences'] = page_text.split('.')\n",
    "    doc = nlp(page_text)\n",
    "    spacy_sentences = list(doc.sents)\n",
    "    item['pages_sentences_spacy'] = [str(sen) for sen in spacy_sentences]\n",
    "    item['spacy_sentence_count'] = len(item['pages_sentences_spacy'])"
   ]
  },
  {
   "cell_type": "code",
   "execution_count": 24,
   "id": "18465f7b-5d9c-49cd-8894-28223e033190",
   "metadata": {
    "ExecuteTime": {
     "end_time": "2024-04-25T05:43:53.247014Z",
     "start_time": "2024-04-25T05:43:53.228616Z"
    }
   },
   "outputs": [
    {
     "data": {
      "text/plain": [
       "{'page_number': 5,\n",
       " 'page_char_count': 2617,\n",
       " 'number_of_tokens': 654.25,\n",
       " 'pages_sentence_count': 16,\n",
       " 'page_text': 'motionless. would they not all fall together at some point? in a letter in 1691 to richard bentley, another leading thinker of his day, newton argued that this would indeed happen if there were only a finite number of stars distributed over a finite region of space. but he reasoned that if, on the other hand, there were an infinite number of stars, distributed more or less uniformly over infinite space, this would not happen, because there would not be any central point for them to fall to. this argument is an instance of the pitfalls that you can encounter in talking about infinity. in an infinite universe, every point can be regarded as the center, because every point has an infinite number of stars on each side of it. the correct approach, it was realized only much later, is to consider the finite situation, in which the stars all fall in on each other, and then to ask how things change if one adds more stars roughly uniformly distributed outside this region. according to newton’s law, the extra stars would make no difference at all to the original ones on average, so the stars would fall in just as fast. we can add as many stars as we like, but they will still always collapse in on themselves. we now know it is impossible to have an infinite static model of the universe in which gravity is always attractive. it is an interesting reflection on the general climate of thought before the twentieth century that no one had suggested that the universe was expanding or contracting. it was generally accepted that either the universe had existed forever in an unchanging state, or that it had been created at a finite time in the past more or less as we observe it today. in part this may have been due to people’s tendency to believe in eternal truths, as well as the comfort they found in the thought that even though they may grow old and die, the universe is eternal and unchanging. even those who realized that newton’s theory of gravity showed that the universe could not be static did not think to suggest that it might be expanding. instead, they attempted to modify the theory by making the gravitational force repulsive at very large distances. this did not significantly affect their predictions of the motions of the planets, but it allowed an infinite distribution of stars to remain in equilibrium—with the attractive forces between nearby stars balanced by the repulsive forces from those that were farther away. however, we now believe such an equilibrium would be unstable: if the stars in some region got only slightly nearer each other, the attractive forces between them would ',\n",
       " 'Book_Name': 'A Brief History of Time ',\n",
       " 'pages_sentences': ['motionless',\n",
       "  ' would they not all fall together at some point? in a letter in 1691 to richard bentley, another leading thinker of his day, newton argued that this would indeed happen if there were only a finite number of stars distributed over a finite region of space',\n",
       "  ' but he reasoned that if, on the other hand, there were an infinite number of stars, distributed more or less uniformly over infinite space, this would not happen, because there would not be any central point for them to fall to',\n",
       "  ' this argument is an instance of the pitfalls that you can encounter in talking about infinity',\n",
       "  ' in an infinite universe, every point can be regarded as the center, because every point has an infinite number of stars on each side of it',\n",
       "  ' the correct approach, it was realized only much later, is to consider the finite situation, in which the stars all fall in on each other, and then to ask how things change if one adds more stars roughly uniformly distributed outside this region',\n",
       "  ' according to newton’s law, the extra stars would make no difference at all to the original ones on average, so the stars would fall in just as fast',\n",
       "  ' we can add as many stars as we like, but they will still always collapse in on themselves',\n",
       "  ' we now know it is impossible to have an infinite static model of the universe in which gravity is always attractive',\n",
       "  ' it is an interesting reflection on the general climate of thought before the twentieth century that no one had suggested that the universe was expanding or contracting',\n",
       "  ' it was generally accepted that either the universe had existed forever in an unchanging state, or that it had been created at a finite time in the past more or less as we observe it today',\n",
       "  ' in part this may have been due to people’s tendency to believe in eternal truths, as well as the comfort they found in the thought that even though they may grow old and die, the universe is eternal and unchanging',\n",
       "  ' even those who realized that newton’s theory of gravity showed that the universe could not be static did not think to suggest that it might be expanding',\n",
       "  ' instead, they attempted to modify the theory by making the gravitational force repulsive at very large distances',\n",
       "  ' this did not significantly affect their predictions of the motions of the planets, but it allowed an infinite distribution of stars to remain in equilibrium—with the attractive forces between nearby stars balanced by the repulsive forces from those that were farther away',\n",
       "  ' however, we now believe such an equilibrium would be unstable: if the stars in some region got only slightly nearer each other, the attractive forces between them would '],\n",
       " 'pages_sentences_spacy': ['motionless.',\n",
       "  'would they not all fall together at some point?',\n",
       "  'in a letter in 1691 to richard bentley, another leading thinker of his day, newton argued that this would indeed happen if there were only a finite number of stars distributed over a finite region of space.',\n",
       "  'but he reasoned that if, on the other hand, there were an infinite number of stars, distributed more or less uniformly over infinite space, this would not happen, because there would not be any central point for them to fall to.',\n",
       "  'this argument is an instance of the pitfalls that you can encounter in talking about infinity.',\n",
       "  'in an infinite universe, every point can be regarded as the center, because every point has an infinite number of stars on each side of it.',\n",
       "  'the correct approach, it was realized only much later, is to consider the finite situation, in which the stars all fall in on each other, and then to ask how things change if one adds more stars roughly uniformly distributed outside this region.',\n",
       "  'according to newton’s law, the extra stars would make no difference at all to the original ones on average, so the stars would fall in just as fast.',\n",
       "  'we can add as many stars as we like, but they will still always collapse in on themselves.',\n",
       "  'we now know it is impossible to have an infinite static model of the universe in which gravity is always attractive.',\n",
       "  'it is an interesting reflection on the general climate of thought before the twentieth century that no one had suggested that the universe was expanding or contracting.',\n",
       "  'it was generally accepted that either the universe had existed forever in an unchanging state, or that it had been created at a finite time in the past more or less as we observe it today.',\n",
       "  'in part this may have been due to people’s tendency to believe in eternal truths, as well as the comfort they found in the thought that even though they may grow old and die, the universe is eternal and unchanging.',\n",
       "  'even those who realized that newton’s theory of gravity showed that the universe could not be static did not think to suggest that it might be expanding.',\n",
       "  'instead, they attempted to modify the theory by making the gravitational force repulsive at very large distances.',\n",
       "  'this did not significantly affect their predictions of the motions of the planets, but it allowed an infinite distribution of stars to remain in equilibrium—with the attractive forces between nearby stars balanced by the repulsive forces from those that were farther away.',\n",
       "  'however, we now believe such an equilibrium would be unstable: if the stars in some region got only slightly nearer each other, the attractive forces between them would'],\n",
       " 'spacy_sentence_count': 17}"
      ]
     },
     "execution_count": 24,
     "metadata": {},
     "output_type": "execute_result"
    }
   ],
   "source": [
    "pages_and_text[12]"
   ]
  },
  {
   "cell_type": "code",
   "execution_count": 25,
   "id": "349adc6a-59de-4b71-98e6-7713ea093a6b",
   "metadata": {
    "ExecuteTime": {
     "end_time": "2024-04-25T05:43:56.913376Z",
     "start_time": "2024-04-25T05:43:56.887506Z"
    }
   },
   "outputs": [
    {
     "data": {
      "text/html": [
       "<div>\n",
       "<style scoped>\n",
       "    .dataframe tbody tr th:only-of-type {\n",
       "        vertical-align: middle;\n",
       "    }\n",
       "\n",
       "    .dataframe tbody tr th {\n",
       "        vertical-align: top;\n",
       "    }\n",
       "\n",
       "    .dataframe thead th {\n",
       "        text-align: right;\n",
       "    }\n",
       "</style>\n",
       "<table border=\"1\" class=\"dataframe\">\n",
       "  <thead>\n",
       "    <tr style=\"text-align: right;\">\n",
       "      <th></th>\n",
       "      <th>page_number</th>\n",
       "      <th>page_char_count</th>\n",
       "      <th>number_of_tokens</th>\n",
       "      <th>pages_sentence_count</th>\n",
       "      <th>spacy_sentence_count</th>\n",
       "    </tr>\n",
       "  </thead>\n",
       "  <tbody>\n",
       "    <tr>\n",
       "      <th>count</th>\n",
       "      <td>404.00</td>\n",
       "      <td>404.00</td>\n",
       "      <td>404.00</td>\n",
       "      <td>404.00</td>\n",
       "      <td>404.00</td>\n",
       "    </tr>\n",
       "    <tr>\n",
       "      <th>mean</th>\n",
       "      <td>92.05</td>\n",
       "      <td>1468.07</td>\n",
       "      <td>367.02</td>\n",
       "      <td>12.60</td>\n",
       "      <td>12.36</td>\n",
       "    </tr>\n",
       "    <tr>\n",
       "      <th>std</th>\n",
       "      <td>59.36</td>\n",
       "      <td>931.30</td>\n",
       "      <td>232.83</td>\n",
       "      <td>7.48</td>\n",
       "      <td>7.44</td>\n",
       "    </tr>\n",
       "    <tr>\n",
       "      <th>min</th>\n",
       "      <td>-11.00</td>\n",
       "      <td>0.00</td>\n",
       "      <td>0.00</td>\n",
       "      <td>1.00</td>\n",
       "      <td>0.00</td>\n",
       "    </tr>\n",
       "    <tr>\n",
       "      <th>25%</th>\n",
       "      <td>41.00</td>\n",
       "      <td>644.00</td>\n",
       "      <td>161.00</td>\n",
       "      <td>7.00</td>\n",
       "      <td>6.00</td>\n",
       "    </tr>\n",
       "    <tr>\n",
       "      <th>50%</th>\n",
       "      <td>91.50</td>\n",
       "      <td>1457.50</td>\n",
       "      <td>364.38</td>\n",
       "      <td>14.00</td>\n",
       "      <td>14.00</td>\n",
       "    </tr>\n",
       "    <tr>\n",
       "      <th>75%</th>\n",
       "      <td>142.00</td>\n",
       "      <td>2465.50</td>\n",
       "      <td>616.38</td>\n",
       "      <td>18.00</td>\n",
       "      <td>18.00</td>\n",
       "    </tr>\n",
       "    <tr>\n",
       "      <th>max</th>\n",
       "      <td>207.00</td>\n",
       "      <td>3042.00</td>\n",
       "      <td>760.50</td>\n",
       "      <td>34.00</td>\n",
       "      <td>31.00</td>\n",
       "    </tr>\n",
       "  </tbody>\n",
       "</table>\n",
       "</div>"
      ],
      "text/plain": [
       "       page_number  page_char_count  number_of_tokens  pages_sentence_count  \\\n",
       "count       404.00           404.00            404.00                404.00   \n",
       "mean         92.05          1468.07            367.02                 12.60   \n",
       "std          59.36           931.30            232.83                  7.48   \n",
       "min         -11.00             0.00              0.00                  1.00   \n",
       "25%          41.00           644.00            161.00                  7.00   \n",
       "50%          91.50          1457.50            364.38                 14.00   \n",
       "75%         142.00          2465.50            616.38                 18.00   \n",
       "max         207.00          3042.00            760.50                 34.00   \n",
       "\n",
       "       spacy_sentence_count  \n",
       "count                404.00  \n",
       "mean                  12.36  \n",
       "std                    7.44  \n",
       "min                    0.00  \n",
       "25%                    6.00  \n",
       "50%                   14.00  \n",
       "75%                   18.00  \n",
       "max                   31.00  "
      ]
     },
     "execution_count": 25,
     "metadata": {},
     "output_type": "execute_result"
    }
   ],
   "source": [
    "import pandas as pd\n",
    "\n",
    "df = pd.DataFrame(pages_and_text)\n",
    "df.describe().round(2)"
   ]
  },
  {
   "cell_type": "code",
   "execution_count": 26,
   "id": "74e20c2b-c0eb-45af-bacd-e583b1c1cc59",
   "metadata": {
    "ExecuteTime": {
     "end_time": "2024-04-25T05:44:00.031107Z",
     "start_time": "2024-04-25T05:44:00.017215Z"
    }
   },
   "outputs": [
    {
     "data": {
      "application/vnd.jupyter.widget-view+json": {
       "model_id": "b0f50b3e3cba42c88d31014433c43cd1",
       "version_major": 2,
       "version_minor": 0
      },
      "text/plain": [
       "  0%|          | 0/404 [00:00<?, ?it/s]"
      ]
     },
     "metadata": {},
     "output_type": "display_data"
    }
   ],
   "source": [
    "num_sentence_chunk_size = 10 \n",
    "\n",
    "def split_list(input_list: list, \n",
    "               slice_size: int) -> list[list[str]]:\n",
    "\n",
    "    return [input_list[i:i + slice_size] for i in range(0, len(input_list), slice_size)]\n",
    "\n",
    "for item in tqdm(pages_and_text):\n",
    "    item[\"sentence_chunks\"] = split_list(input_list=item[\"pages_sentences_spacy\"],\n",
    "                                         slice_size=num_sentence_chunk_size)\n",
    "    item[\"num_chunks\"] = len(item[\"sentence_chunks\"])"
   ]
  },
  {
   "cell_type": "code",
   "execution_count": 27,
   "id": "f1c9c822-3ff5-4c75-b4d3-c561e67fd2d7",
   "metadata": {
    "ExecuteTime": {
     "end_time": "2024-04-25T05:44:01.497662Z",
     "start_time": "2024-04-25T05:44:01.492547Z"
    }
   },
   "outputs": [
    {
     "data": {
      "text/plain": [
       "{'page_number': 5,\n",
       " 'page_char_count': 2617,\n",
       " 'number_of_tokens': 654.25,\n",
       " 'pages_sentence_count': 16,\n",
       " 'page_text': 'motionless. would they not all fall together at some point? in a letter in 1691 to richard bentley, another leading thinker of his day, newton argued that this would indeed happen if there were only a finite number of stars distributed over a finite region of space. but he reasoned that if, on the other hand, there were an infinite number of stars, distributed more or less uniformly over infinite space, this would not happen, because there would not be any central point for them to fall to. this argument is an instance of the pitfalls that you can encounter in talking about infinity. in an infinite universe, every point can be regarded as the center, because every point has an infinite number of stars on each side of it. the correct approach, it was realized only much later, is to consider the finite situation, in which the stars all fall in on each other, and then to ask how things change if one adds more stars roughly uniformly distributed outside this region. according to newton’s law, the extra stars would make no difference at all to the original ones on average, so the stars would fall in just as fast. we can add as many stars as we like, but they will still always collapse in on themselves. we now know it is impossible to have an infinite static model of the universe in which gravity is always attractive. it is an interesting reflection on the general climate of thought before the twentieth century that no one had suggested that the universe was expanding or contracting. it was generally accepted that either the universe had existed forever in an unchanging state, or that it had been created at a finite time in the past more or less as we observe it today. in part this may have been due to people’s tendency to believe in eternal truths, as well as the comfort they found in the thought that even though they may grow old and die, the universe is eternal and unchanging. even those who realized that newton’s theory of gravity showed that the universe could not be static did not think to suggest that it might be expanding. instead, they attempted to modify the theory by making the gravitational force repulsive at very large distances. this did not significantly affect their predictions of the motions of the planets, but it allowed an infinite distribution of stars to remain in equilibrium—with the attractive forces between nearby stars balanced by the repulsive forces from those that were farther away. however, we now believe such an equilibrium would be unstable: if the stars in some region got only slightly nearer each other, the attractive forces between them would ',\n",
       " 'Book_Name': 'A Brief History of Time ',\n",
       " 'pages_sentences': ['motionless',\n",
       "  ' would they not all fall together at some point? in a letter in 1691 to richard bentley, another leading thinker of his day, newton argued that this would indeed happen if there were only a finite number of stars distributed over a finite region of space',\n",
       "  ' but he reasoned that if, on the other hand, there were an infinite number of stars, distributed more or less uniformly over infinite space, this would not happen, because there would not be any central point for them to fall to',\n",
       "  ' this argument is an instance of the pitfalls that you can encounter in talking about infinity',\n",
       "  ' in an infinite universe, every point can be regarded as the center, because every point has an infinite number of stars on each side of it',\n",
       "  ' the correct approach, it was realized only much later, is to consider the finite situation, in which the stars all fall in on each other, and then to ask how things change if one adds more stars roughly uniformly distributed outside this region',\n",
       "  ' according to newton’s law, the extra stars would make no difference at all to the original ones on average, so the stars would fall in just as fast',\n",
       "  ' we can add as many stars as we like, but they will still always collapse in on themselves',\n",
       "  ' we now know it is impossible to have an infinite static model of the universe in which gravity is always attractive',\n",
       "  ' it is an interesting reflection on the general climate of thought before the twentieth century that no one had suggested that the universe was expanding or contracting',\n",
       "  ' it was generally accepted that either the universe had existed forever in an unchanging state, or that it had been created at a finite time in the past more or less as we observe it today',\n",
       "  ' in part this may have been due to people’s tendency to believe in eternal truths, as well as the comfort they found in the thought that even though they may grow old and die, the universe is eternal and unchanging',\n",
       "  ' even those who realized that newton’s theory of gravity showed that the universe could not be static did not think to suggest that it might be expanding',\n",
       "  ' instead, they attempted to modify the theory by making the gravitational force repulsive at very large distances',\n",
       "  ' this did not significantly affect their predictions of the motions of the planets, but it allowed an infinite distribution of stars to remain in equilibrium—with the attractive forces between nearby stars balanced by the repulsive forces from those that were farther away',\n",
       "  ' however, we now believe such an equilibrium would be unstable: if the stars in some region got only slightly nearer each other, the attractive forces between them would '],\n",
       " 'pages_sentences_spacy': ['motionless.',\n",
       "  'would they not all fall together at some point?',\n",
       "  'in a letter in 1691 to richard bentley, another leading thinker of his day, newton argued that this would indeed happen if there were only a finite number of stars distributed over a finite region of space.',\n",
       "  'but he reasoned that if, on the other hand, there were an infinite number of stars, distributed more or less uniformly over infinite space, this would not happen, because there would not be any central point for them to fall to.',\n",
       "  'this argument is an instance of the pitfalls that you can encounter in talking about infinity.',\n",
       "  'in an infinite universe, every point can be regarded as the center, because every point has an infinite number of stars on each side of it.',\n",
       "  'the correct approach, it was realized only much later, is to consider the finite situation, in which the stars all fall in on each other, and then to ask how things change if one adds more stars roughly uniformly distributed outside this region.',\n",
       "  'according to newton’s law, the extra stars would make no difference at all to the original ones on average, so the stars would fall in just as fast.',\n",
       "  'we can add as many stars as we like, but they will still always collapse in on themselves.',\n",
       "  'we now know it is impossible to have an infinite static model of the universe in which gravity is always attractive.',\n",
       "  'it is an interesting reflection on the general climate of thought before the twentieth century that no one had suggested that the universe was expanding or contracting.',\n",
       "  'it was generally accepted that either the universe had existed forever in an unchanging state, or that it had been created at a finite time in the past more or less as we observe it today.',\n",
       "  'in part this may have been due to people’s tendency to believe in eternal truths, as well as the comfort they found in the thought that even though they may grow old and die, the universe is eternal and unchanging.',\n",
       "  'even those who realized that newton’s theory of gravity showed that the universe could not be static did not think to suggest that it might be expanding.',\n",
       "  'instead, they attempted to modify the theory by making the gravitational force repulsive at very large distances.',\n",
       "  'this did not significantly affect their predictions of the motions of the planets, but it allowed an infinite distribution of stars to remain in equilibrium—with the attractive forces between nearby stars balanced by the repulsive forces from those that were farther away.',\n",
       "  'however, we now believe such an equilibrium would be unstable: if the stars in some region got only slightly nearer each other, the attractive forces between them would'],\n",
       " 'spacy_sentence_count': 17,\n",
       " 'sentence_chunks': [['motionless.',\n",
       "   'would they not all fall together at some point?',\n",
       "   'in a letter in 1691 to richard bentley, another leading thinker of his day, newton argued that this would indeed happen if there were only a finite number of stars distributed over a finite region of space.',\n",
       "   'but he reasoned that if, on the other hand, there were an infinite number of stars, distributed more or less uniformly over infinite space, this would not happen, because there would not be any central point for them to fall to.',\n",
       "   'this argument is an instance of the pitfalls that you can encounter in talking about infinity.',\n",
       "   'in an infinite universe, every point can be regarded as the center, because every point has an infinite number of stars on each side of it.',\n",
       "   'the correct approach, it was realized only much later, is to consider the finite situation, in which the stars all fall in on each other, and then to ask how things change if one adds more stars roughly uniformly distributed outside this region.',\n",
       "   'according to newton’s law, the extra stars would make no difference at all to the original ones on average, so the stars would fall in just as fast.',\n",
       "   'we can add as many stars as we like, but they will still always collapse in on themselves.',\n",
       "   'we now know it is impossible to have an infinite static model of the universe in which gravity is always attractive.'],\n",
       "  ['it is an interesting reflection on the general climate of thought before the twentieth century that no one had suggested that the universe was expanding or contracting.',\n",
       "   'it was generally accepted that either the universe had existed forever in an unchanging state, or that it had been created at a finite time in the past more or less as we observe it today.',\n",
       "   'in part this may have been due to people’s tendency to believe in eternal truths, as well as the comfort they found in the thought that even though they may grow old and die, the universe is eternal and unchanging.',\n",
       "   'even those who realized that newton’s theory of gravity showed that the universe could not be static did not think to suggest that it might be expanding.',\n",
       "   'instead, they attempted to modify the theory by making the gravitational force repulsive at very large distances.',\n",
       "   'this did not significantly affect their predictions of the motions of the planets, but it allowed an infinite distribution of stars to remain in equilibrium—with the attractive forces between nearby stars balanced by the repulsive forces from those that were farther away.',\n",
       "   'however, we now believe such an equilibrium would be unstable: if the stars in some region got only slightly nearer each other, the attractive forces between them would']],\n",
       " 'num_chunks': 2}"
      ]
     },
     "execution_count": 27,
     "metadata": {},
     "output_type": "execute_result"
    }
   ],
   "source": [
    "pages_and_text[12]"
   ]
  },
  {
   "cell_type": "code",
   "execution_count": 28,
   "id": "c5f64c41-461b-47a7-8bb7-3d7813b3f5d4",
   "metadata": {
    "ExecuteTime": {
     "end_time": "2024-04-25T05:44:06.824935Z",
     "start_time": "2024-04-25T05:44:06.796839Z"
    }
   },
   "outputs": [
    {
     "data": {
      "application/vnd.jupyter.widget-view+json": {
       "model_id": "ce9b1508c3164e0880524669a10ebc26",
       "version_major": 2,
       "version_minor": 0
      },
      "text/plain": [
       "  0%|          | 0/404 [00:00<?, ?it/s]"
      ]
     },
     "metadata": {},
     "output_type": "display_data"
    },
    {
     "data": {
      "text/plain": [
       "697"
      ]
     },
     "execution_count": 28,
     "metadata": {},
     "output_type": "execute_result"
    }
   ],
   "source": [
    "import re\n",
    "\n",
    "pages_and_chunks = []\n",
    "for item in tqdm(pages_and_text):\n",
    "    for sentence_chunk in item[\"sentence_chunks\"]:\n",
    "        chunk_dict = {}\n",
    "        chunk_dict[\"page_number\"] = item[\"page_number\"]\n",
    "        \n",
    "        joined_sentence_chunk = \"\".join(sentence_chunk).replace(\"  \", \" \").strip()\n",
    "        joined_sentence_chunk = re.sub(r'\\.([A-Z])', r'. \\1', joined_sentence_chunk) # \".A\" -> \". A\" for any full-stop/capital letter combo \n",
    "        chunk_dict[\"sentence_chunk\"] = joined_sentence_chunk\n",
    "\n",
    "        chunk_dict[\"chunk_char_count\"] = len(joined_sentence_chunk)\n",
    "        chunk_dict[\"chunk_word_count\"] = len([word for word in joined_sentence_chunk.split(\" \")])\n",
    "        chunk_dict[\"chunk_token_count\"] = len(joined_sentence_chunk) / 4 # 1 token = ~4 characters\n",
    "        \n",
    "        pages_and_chunks.append(chunk_dict)\n",
    "\n",
    "len(pages_and_chunks)"
   ]
  },
  {
   "cell_type": "code",
   "execution_count": 29,
   "id": "884ff3fe-a17d-41d7-b6b3-f819772529bb",
   "metadata": {
    "ExecuteTime": {
     "end_time": "2024-04-25T05:44:11.038405Z",
     "start_time": "2024-04-25T05:44:11.014403Z"
    }
   },
   "outputs": [
    {
     "data": {
      "text/html": [
       "<div>\n",
       "<style scoped>\n",
       "    .dataframe tbody tr th:only-of-type {\n",
       "        vertical-align: middle;\n",
       "    }\n",
       "\n",
       "    .dataframe tbody tr th {\n",
       "        vertical-align: top;\n",
       "    }\n",
       "\n",
       "    .dataframe thead th {\n",
       "        text-align: right;\n",
       "    }\n",
       "</style>\n",
       "<table border=\"1\" class=\"dataframe\">\n",
       "  <thead>\n",
       "    <tr style=\"text-align: right;\">\n",
       "      <th></th>\n",
       "      <th>page_number</th>\n",
       "      <th>chunk_char_count</th>\n",
       "      <th>chunk_word_count</th>\n",
       "      <th>chunk_token_count</th>\n",
       "    </tr>\n",
       "  </thead>\n",
       "  <tbody>\n",
       "    <tr>\n",
       "      <th>count</th>\n",
       "      <td>697.00</td>\n",
       "      <td>697.00</td>\n",
       "      <td>697.00</td>\n",
       "      <td>697.00</td>\n",
       "    </tr>\n",
       "    <tr>\n",
       "      <th>mean</th>\n",
       "      <td>92.46</td>\n",
       "      <td>837.68</td>\n",
       "      <td>146.74</td>\n",
       "      <td>209.42</td>\n",
       "    </tr>\n",
       "    <tr>\n",
       "      <th>std</th>\n",
       "      <td>56.70</td>\n",
       "      <td>488.64</td>\n",
       "      <td>81.69</td>\n",
       "      <td>122.16</td>\n",
       "    </tr>\n",
       "    <tr>\n",
       "      <th>min</th>\n",
       "      <td>-10.00</td>\n",
       "      <td>0.00</td>\n",
       "      <td>1.00</td>\n",
       "      <td>0.00</td>\n",
       "    </tr>\n",
       "    <tr>\n",
       "      <th>25%</th>\n",
       "      <td>43.00</td>\n",
       "      <td>404.00</td>\n",
       "      <td>72.00</td>\n",
       "      <td>101.00</td>\n",
       "    </tr>\n",
       "    <tr>\n",
       "      <th>50%</th>\n",
       "      <td>93.00</td>\n",
       "      <td>932.00</td>\n",
       "      <td>165.00</td>\n",
       "      <td>233.00</td>\n",
       "    </tr>\n",
       "    <tr>\n",
       "      <th>75%</th>\n",
       "      <td>140.00</td>\n",
       "      <td>1206.00</td>\n",
       "      <td>209.00</td>\n",
       "      <td>301.50</td>\n",
       "    </tr>\n",
       "    <tr>\n",
       "      <th>max</th>\n",
       "      <td>207.00</td>\n",
       "      <td>1936.00</td>\n",
       "      <td>322.00</td>\n",
       "      <td>484.00</td>\n",
       "    </tr>\n",
       "  </tbody>\n",
       "</table>\n",
       "</div>"
      ],
      "text/plain": [
       "       page_number  chunk_char_count  chunk_word_count  chunk_token_count\n",
       "count       697.00            697.00            697.00             697.00\n",
       "mean         92.46            837.68            146.74             209.42\n",
       "std          56.70            488.64             81.69             122.16\n",
       "min         -10.00              0.00              1.00               0.00\n",
       "25%          43.00            404.00             72.00             101.00\n",
       "50%          93.00            932.00            165.00             233.00\n",
       "75%         140.00           1206.00            209.00             301.50\n",
       "max         207.00           1936.00            322.00             484.00"
      ]
     },
     "execution_count": 29,
     "metadata": {},
     "output_type": "execute_result"
    }
   ],
   "source": [
    "import pandas as pd\n",
    "\n",
    "df = pd.DataFrame(pages_and_chunks)\n",
    "df.describe().round(2)"
   ]
  },
  {
   "cell_type": "code",
   "execution_count": 30,
   "id": "c5a71b2b-9bf2-4f98-87b4-ba684a231946",
   "metadata": {
    "ExecuteTime": {
     "end_time": "2024-04-25T05:44:19.561145Z",
     "start_time": "2024-04-25T05:44:12.285823Z"
    }
   },
   "outputs": [
    {
     "name": "stdout",
     "output_type": "stream",
     "text": [
      "CPU times: total: 1.17 s\n",
      "Wall time: 4.32 s\n"
     ]
    }
   ],
   "source": [
    "%%time\n",
    "from sentence_transformers import SentenceTransformer,util\n",
    "\n",
    "embedding_model = SentenceTransformer(model_name_or_path=\"all-mpnet-base-v2\",\n",
    "                                     device='cuda')"
   ]
  },
  {
   "cell_type": "code",
   "execution_count": 31,
   "id": "59635dde-f3b2-4756-b998-88a8232a2334",
   "metadata": {
    "ExecuteTime": {
     "end_time": "2024-04-25T05:44:22.156118Z",
     "start_time": "2024-04-25T05:44:22.140400Z"
    }
   },
   "outputs": [
    {
     "data": {
      "text/plain": [
       "SentenceTransformer(\n",
       "  (0): Transformer({'max_seq_length': 384, 'do_lower_case': False}) with Transformer model: MPNetModel \n",
       "  (1): Pooling({'word_embedding_dimension': 768, 'pooling_mode_cls_token': False, 'pooling_mode_mean_tokens': True, 'pooling_mode_max_tokens': False, 'pooling_mode_mean_sqrt_len_tokens': False, 'pooling_mode_weightedmean_tokens': False, 'pooling_mode_lasttoken': False, 'include_prompt': True})\n",
       "  (2): Normalize()\n",
       ")"
      ]
     },
     "execution_count": 31,
     "metadata": {},
     "output_type": "execute_result"
    }
   ],
   "source": [
    "embedding_model"
   ]
  },
  {
   "cell_type": "code",
   "execution_count": 32,
   "id": "d925ff34-e62c-46ac-be67-024c98df06be",
   "metadata": {
    "ExecuteTime": {
     "end_time": "2024-04-25T05:44:32.819310Z",
     "start_time": "2024-04-25T05:44:23.284513Z"
    }
   },
   "outputs": [
    {
     "data": {
      "application/vnd.jupyter.widget-view+json": {
       "model_id": "3bd94f3da7fa40419353abc80dadb587",
       "version_major": 2,
       "version_minor": 0
      },
      "text/plain": [
       "  0%|          | 0/697 [00:00<?, ?it/s]"
      ]
     },
     "metadata": {},
     "output_type": "display_data"
    }
   ],
   "source": [
    "for item in tqdm(pages_and_chunks):\n",
    "    item[\"embedding\"] = embedding_model.encode(item[\"sentence_chunk\"],batch_size=64)"
   ]
  },
  {
   "cell_type": "code",
   "execution_count": 33,
   "id": "122b4747-433f-4f46-b154-4fdc509fc4ac",
   "metadata": {},
   "outputs": [
    {
     "data": {
      "text/plain": [
       "{'page_number': 54,\n",
       " 'sentence_chunk': 'the phenomenon of interference between particles has been crucial to our understanding of the structure of atoms, the basic units of chemistry and biology and the building blocks out of which we, and everything around us, are made.at the beginning of this century it was thought that atoms were rather like the planets orbiting the sun, with electrons (particles of negative electricity) orbiting around a central nucleus, which carried positive electricity.the attraction between the positive and negative electricity was supposed to keep the electrons in their orbits in the same way that the gravitational attraction between the sun and the planets keeps the planets in their orbits.the trouble with this was that the laws of mechanics and electricity, before quantum mechanics, predicted that the electrons would lose energy and so spiral inward until they collided with the nucleus.this would mean that the atom, and indeed all matter, should rapidly collapse to a state of very high density.a partial solution to this problem was found by the danish scientist niels bohr in 1913.he suggested that maybe the electrons were not able to orbit at just any distance from the central nucleus but only at certain specified distances.if one also supposed that only one or two electrons could orbit at any one of these distances, this would solve the problem of the collapse of the atom, because the electrons could not spiral in any farther than to fill up the orbits with the least distances and energies.this model explained quite well the structure of the simplest atom, hydrogen, which has only one electron orbiting around the nucleus.but it was not clear how one ought to extend it to more complicated atoms.',\n",
       " 'chunk_char_count': 1712,\n",
       " 'chunk_word_count': 279,\n",
       " 'chunk_token_count': 428.0,\n",
       " 'embedding': array([ 2.44712587e-02, -1.34892771e-02, -2.86652576e-02, -3.83273466e-03,\n",
       "        -2.54114787e-03, -1.66335888e-02,  8.55820905e-03,  5.02792979e-03,\n",
       "         7.67336506e-03,  8.96672904e-03,  2.95228162e-03, -5.17359152e-02,\n",
       "        -3.60601805e-02, -1.98000129e-02, -1.33739104e-02, -5.54543063e-02,\n",
       "         1.87693462e-02,  9.25522763e-04, -2.24442384e-03, -3.07944939e-02,\n",
       "         9.62218456e-03, -4.97305244e-02,  9.39697959e-03, -3.14607210e-02,\n",
       "         1.70962457e-02,  2.22684778e-02,  1.00711994e-02, -2.39505805e-03,\n",
       "         8.30756093e-04,  2.67110728e-02, -3.20034847e-02, -1.58907734e-02,\n",
       "        -2.38245018e-02,  1.07540078e-02,  1.56094609e-06, -2.65900511e-02,\n",
       "        -3.43240332e-03,  3.03862169e-02, -2.41946634e-02, -4.14332077e-02,\n",
       "        -1.98638327e-02, -1.80398452e-03, -2.39034221e-02, -5.82372595e-04,\n",
       "        -5.56430733e-03,  4.81354818e-02, -1.85017437e-02, -1.49051715e-02,\n",
       "        -3.08326110e-02, -1.13279009e-02, -1.70656247e-04,  4.63642739e-02,\n",
       "         8.77739191e-02, -2.14265455e-02,  9.98221561e-02, -1.71639808e-02,\n",
       "         1.10068405e-02,  3.01803015e-02,  1.46514596e-02,  2.11967435e-02,\n",
       "        -4.33512442e-02, -4.05043215e-02, -1.75719019e-02,  1.00713139e-02,\n",
       "         1.33215394e-02, -2.03209352e-02, -2.45314389e-02,  4.03223373e-02,\n",
       "        -5.14316652e-03,  2.42629219e-02, -5.43892272e-02, -2.22485512e-02,\n",
       "        -4.52646352e-02, -1.62180290e-02, -4.69990866e-03, -2.95553543e-02,\n",
       "         9.59447958e-03, -4.46284339e-02,  5.82523346e-02,  1.44830775e-02,\n",
       "         2.69439984e-02,  2.63171233e-02, -5.24433795e-03,  4.90626320e-02,\n",
       "        -1.96533208e-03, -2.86902487e-03, -1.06149642e-02, -2.66323350e-02,\n",
       "         2.22727749e-02,  5.33405021e-02,  8.87013506e-03,  1.92172977e-03,\n",
       "        -1.57792319e-03, -2.47931816e-02,  2.85027828e-02,  1.87089946e-02,\n",
       "         7.61147449e-03,  1.65700596e-02,  6.80597359e-03, -6.16120116e-04,\n",
       "        -2.34482400e-02, -2.10074317e-02,  6.15167506e-02,  3.70916836e-02,\n",
       "         3.80639099e-02, -3.86143029e-02,  1.48417018e-02, -3.99699621e-02,\n",
       "         8.12111236e-03,  3.73751968e-02, -3.35538462e-02,  5.07068560e-02,\n",
       "        -2.08104532e-02,  3.25295627e-02, -5.43756746e-02, -5.44930212e-02,\n",
       "         4.85654436e-02, -2.08411217e-02, -1.29946535e-02,  3.60429101e-02,\n",
       "        -6.07038848e-02,  8.59212503e-03,  3.63794863e-02, -3.84270283e-03,\n",
       "         5.00725210e-02,  5.54124899e-02, -8.73631891e-03,  1.21432776e-02,\n",
       "        -8.77075642e-03,  8.49985227e-04, -1.81002188e-02, -7.03430623e-02,\n",
       "        -3.84606123e-02,  4.92581399e-03, -6.25511929e-02,  4.07961057e-03,\n",
       "         3.95316668e-02, -1.49334660e-02,  5.35185486e-02, -1.73826609e-02,\n",
       "        -8.72294046e-03, -1.23892091e-02,  2.88852323e-02,  1.47060519e-02,\n",
       "        -1.51624745e-02,  4.36945856e-02,  2.05705836e-02, -7.43398145e-02,\n",
       "         3.02297436e-02, -6.76036552e-02, -6.81000501e-02,  6.38842508e-02,\n",
       "        -4.27947193e-02, -1.80894509e-02,  6.84797624e-03,  7.93575272e-02,\n",
       "         5.59459664e-02, -6.18346501e-03, -2.95661353e-02, -3.69778983e-02,\n",
       "         1.91659387e-02,  2.00037993e-02,  3.85898687e-02, -2.42577009e-02,\n",
       "         6.38912246e-02, -1.83126852e-02,  2.09986381e-02, -1.37039833e-02,\n",
       "        -1.15704946e-01,  2.10794620e-02, -5.30919433e-02,  4.57399376e-02,\n",
       "        -2.65115649e-02, -4.52632783e-03, -8.12862664e-02,  6.62175007e-03,\n",
       "        -3.10100671e-02,  1.14427112e-01, -1.11646377e-01,  3.00477576e-02,\n",
       "         2.34727692e-02,  8.57381225e-02,  2.82622781e-02,  4.18490693e-02,\n",
       "        -4.56158854e-02, -8.63658381e-04,  2.60043219e-02, -2.28370652e-02,\n",
       "         3.89937591e-03, -1.04011586e-02, -1.16478242e-02, -1.22090988e-02,\n",
       "         5.35596199e-02, -3.69302109e-02,  8.98533687e-03, -2.49401983e-02,\n",
       "         2.64934544e-02,  1.85173266e-02,  1.51452767e-02, -4.35229763e-03,\n",
       "        -6.27323100e-03,  2.26340778e-02,  2.72403453e-02,  8.36275239e-03,\n",
       "        -1.61697287e-02,  2.19716523e-02, -1.76285151e-02,  4.45713177e-02,\n",
       "         3.11540836e-03,  1.01105208e-02,  9.11988690e-03,  2.77433614e-03,\n",
       "        -6.98385155e-03,  1.32428994e-02, -2.12200731e-02, -2.42812857e-02,\n",
       "        -2.06586067e-02, -4.79980707e-02, -1.15239089e-02,  1.23841874e-02,\n",
       "        -2.57124417e-02,  7.00222254e-02,  6.99788099e-04,  1.04826381e-02,\n",
       "         2.45163050e-02,  5.92443207e-03, -6.20072410e-02, -5.41149452e-03,\n",
       "        -2.80292742e-02, -2.27797981e-02, -4.22613844e-02,  9.92675778e-03,\n",
       "         2.67229080e-02, -1.78195536e-02,  1.84679218e-02, -1.24452680e-01,\n",
       "        -5.75697282e-03,  9.59724933e-03, -2.87992675e-02, -5.40519170e-02,\n",
       "         4.43576835e-02, -3.31373140e-02,  1.24386977e-02,  9.24295466e-03,\n",
       "         4.74180616e-02, -1.89230144e-02, -4.73589413e-02,  8.85677803e-03,\n",
       "        -6.10343069e-02, -1.97157413e-02,  4.36180979e-02,  1.89960271e-03,\n",
       "        -4.21779081e-02,  3.20354849e-02,  4.70297188e-02,  3.57434116e-02,\n",
       "         8.24809894e-02,  3.11340783e-02,  2.27044746e-02, -2.62696892e-02,\n",
       "        -4.88993749e-02,  5.05762883e-02, -7.51738029e-04,  2.63502952e-02,\n",
       "        -2.56590359e-02,  4.23539132e-02, -3.28119621e-02,  2.35869642e-02,\n",
       "        -8.00243914e-02,  4.86342832e-02, -6.02858700e-02,  2.07691416e-02,\n",
       "        -1.10539673e-02,  3.99257848e-03, -2.82616895e-02,  9.67532173e-02,\n",
       "         3.00322920e-02,  6.32911250e-02, -8.82056914e-03,  6.35755360e-02,\n",
       "        -3.21688652e-02, -4.26284857e-02, -2.62271147e-02,  3.87558108e-03,\n",
       "        -9.11641400e-03, -4.61579189e-02,  4.01488319e-03, -3.21941152e-02,\n",
       "        -2.61169616e-02, -3.01709888e-03, -3.53151411e-02,  2.96214744e-02,\n",
       "        -3.82907852e-03,  9.80107859e-03, -9.15985368e-03,  9.82527621e-03,\n",
       "        -1.71902478e-02,  1.24029331e-02, -1.82601716e-02,  5.18712625e-02,\n",
       "         2.71059591e-02, -2.00640727e-02, -7.78609216e-02, -4.27122787e-02,\n",
       "         4.72290516e-02,  2.91864686e-02,  1.81403402e-02,  1.89027060e-02,\n",
       "         1.65066421e-02,  4.39168774e-02, -5.77239059e-02, -3.94420214e-02,\n",
       "         2.12052325e-03,  5.55416532e-02, -5.67892715e-02, -5.61335385e-02,\n",
       "         2.70311739e-02, -3.45519669e-02,  2.53455155e-02,  1.66107472e-02,\n",
       "        -6.78740069e-02,  6.02224842e-02,  2.18003970e-02,  3.95037374e-03,\n",
       "        -3.72105790e-03, -2.37680729e-02, -4.58662258e-03,  2.95454115e-02,\n",
       "         4.80149351e-02, -2.34540342e-03,  8.06773081e-03, -5.53764054e-04,\n",
       "         1.70491245e-02,  3.41498666e-03, -3.82405967e-02, -2.61578355e-02,\n",
       "         2.61524860e-02, -3.18058617e-02, -1.02300234e-02, -4.58128527e-02,\n",
       "        -8.97960514e-02, -1.76009219e-02,  2.13145781e-02,  8.46195780e-03,\n",
       "         4.56212051e-02,  6.31881058e-02,  2.77854968e-03, -9.05246846e-03,\n",
       "        -1.97143853e-02, -3.33257765e-02,  8.58390424e-03, -4.42743301e-02,\n",
       "         5.93333971e-03, -6.98467111e-03,  1.58952363e-02,  6.25527054e-02,\n",
       "         1.71303656e-02, -2.41163764e-02,  7.96936173e-03, -5.03753219e-03,\n",
       "         2.81089265e-03,  1.24497581e-02, -3.43821198e-02,  3.41362543e-02,\n",
       "        -1.50643541e-02, -4.11509424e-02,  2.20429059e-02,  3.29550803e-02,\n",
       "         2.04502381e-02, -4.49572206e-02,  4.64080349e-02, -4.04596813e-02,\n",
       "        -1.68182086e-02, -2.24357974e-02, -4.26574424e-02,  7.36916363e-02,\n",
       "         1.41212018e-02, -9.64765847e-02, -3.97552643e-03,  2.68464498e-02,\n",
       "        -6.01475267e-03,  3.44025381e-02,  2.47010570e-02, -2.62034964e-02,\n",
       "        -9.51109380e-02,  5.33541813e-02,  3.05155590e-02, -2.76189726e-02,\n",
       "        -2.71638781e-02, -2.48712059e-02,  2.21447274e-02,  2.07485519e-02,\n",
       "        -3.04733608e-02,  4.96943481e-02, -6.61154613e-02,  2.81947888e-02,\n",
       "         6.81575201e-03,  4.36479263e-02,  4.56333756e-02, -1.36536947e-02,\n",
       "         5.34263067e-02,  5.93332341e-03,  5.75065687e-02, -2.36860979e-02,\n",
       "        -7.28841778e-03,  1.45060215e-02, -1.90715250e-02,  4.29071393e-03,\n",
       "        -4.57234569e-02, -9.50262882e-03,  5.82288997e-03,  2.21387744e-02,\n",
       "         2.74410397e-02,  2.57979166e-02, -2.40340810e-02,  7.85975084e-02,\n",
       "         3.65509139e-03,  8.09580181e-03, -2.82061603e-02,  3.14017534e-02,\n",
       "        -2.46151052e-02,  4.37637158e-02,  3.97487730e-03, -5.02088703e-02,\n",
       "        -2.63823401e-02,  4.40450795e-02, -8.39651190e-03,  3.44428718e-02,\n",
       "         2.96999812e-02, -6.57415949e-03,  3.82006764e-02, -8.14251155e-02,\n",
       "         2.82462835e-02,  6.10669553e-02, -1.79074667e-02,  4.43397202e-02,\n",
       "        -1.60431843e-02,  6.97762221e-02,  1.13663375e-02, -3.08608357e-02,\n",
       "         2.46502738e-02, -4.59514670e-02,  1.59393158e-02,  1.67541876e-02,\n",
       "         8.78713951e-02, -3.85260135e-02,  6.20624097e-03,  3.95516567e-02,\n",
       "         2.91046686e-03, -9.02540144e-03,  1.05562117e-02,  6.42640293e-02,\n",
       "        -1.63702713e-03, -4.49566692e-02, -1.59051660e-02,  3.87759064e-03,\n",
       "         1.38107967e-02,  1.41423699e-02, -1.53579330e-02, -7.30745541e-03,\n",
       "         3.02048158e-02,  1.77708529e-02,  9.24295485e-02,  8.90944246e-03,\n",
       "        -6.86803088e-02, -6.70319125e-02, -4.95479405e-02,  3.12454794e-02,\n",
       "         5.79089206e-03,  1.62530672e-02, -1.46927834e-02,  1.14346547e-02,\n",
       "        -3.87822501e-02,  3.18551771e-02, -1.84950903e-02, -3.64852063e-02,\n",
       "         9.77071747e-03, -1.12314932e-01, -6.08967282e-02, -1.48366531e-02,\n",
       "        -4.23399685e-03,  4.54186462e-02, -1.56141836e-02,  4.63159494e-02,\n",
       "         2.85578258e-02, -2.13151406e-02,  2.01321822e-02,  2.64738426e-02,\n",
       "        -1.73854735e-02, -6.32408187e-02,  4.21168357e-02, -4.51262519e-02,\n",
       "        -1.98508631e-02,  3.14710364e-02,  1.73407719e-02, -1.20734759e-02,\n",
       "         3.00652422e-02,  8.80047902e-02, -3.69151346e-02,  3.41366976e-02,\n",
       "         3.60620618e-02, -1.75834075e-02, -3.08244284e-02,  7.05582947e-02,\n",
       "        -9.49009042e-03,  2.34523173e-02, -9.23164282e-03, -1.63761806e-02,\n",
       "         1.60591099e-02,  2.51790695e-02, -2.75623146e-02, -9.92868282e-03,\n",
       "        -8.46243501e-02, -7.16346316e-03, -1.90002862e-02,  5.38207367e-02,\n",
       "         2.13071909e-02,  8.25219825e-02,  3.71602774e-02, -4.03465107e-02,\n",
       "        -5.71330599e-02,  8.68430128e-04,  4.73684184e-02,  1.13401646e-02,\n",
       "         1.66267194e-02,  2.89528817e-02,  1.01452377e-02, -8.14970210e-03,\n",
       "        -1.25742634e-03,  3.28924594e-04, -3.44501324e-02, -5.48488796e-02,\n",
       "        -1.29067851e-03,  6.50428236e-03, -6.62178406e-03,  3.72103266e-02,\n",
       "         2.68720556e-03,  1.39550827e-02,  4.09886278e-02, -7.40652392e-03,\n",
       "         4.97956201e-02,  4.88588698e-02,  3.13197821e-02,  7.94156641e-02,\n",
       "         5.17643150e-03, -4.18535881e-02,  3.08614559e-02,  2.71533169e-02,\n",
       "        -5.65603841e-03, -2.47046584e-03,  3.61963734e-02,  4.11324613e-02,\n",
       "        -3.03727183e-02,  2.87013091e-02,  2.11710688e-02, -5.59695509e-33,\n",
       "        -2.12835502e-02, -2.32299068e-03, -7.88124558e-03,  1.93067938e-02,\n",
       "        -4.68493253e-02, -4.92347479e-02, -4.94228974e-02, -6.30848259e-02,\n",
       "        -1.86548512e-02, -2.17281934e-02, -7.30647333e-03,  8.17496423e-03,\n",
       "         9.71517805e-03, -9.03233595e-04,  3.40856090e-02,  2.19526123e-02,\n",
       "         1.87814310e-02,  3.19161527e-02,  4.92081046e-03,  2.09003985e-02,\n",
       "        -3.11573315e-02,  3.00478619e-02, -3.48185860e-02,  8.26199576e-02,\n",
       "         1.65735707e-02, -2.19396371e-02,  2.47305594e-02,  3.49275544e-02,\n",
       "        -7.48231038e-02,  2.23232992e-02, -4.58825938e-03,  6.46667369e-03,\n",
       "        -4.14902437e-03, -3.77045646e-02,  5.77460416e-02,  2.16756873e-02,\n",
       "         1.66648533e-02, -5.27866445e-02, -3.64699587e-02,  2.55026738e-03,\n",
       "         2.56472323e-02,  2.99445689e-02, -5.34486584e-03,  2.32539810e-02,\n",
       "        -2.34934967e-02,  2.00804379e-02,  5.71885146e-03, -4.50429022e-02,\n",
       "        -1.41458046e-02,  1.48840714e-02, -2.57408735e-03, -2.66160909e-02,\n",
       "        -6.40267953e-02,  8.07824824e-03,  1.27313146e-02, -7.77828395e-02,\n",
       "         2.83182599e-03, -6.20210916e-02, -3.61443795e-02,  1.29072089e-02,\n",
       "         6.66646808e-02,  3.54940370e-02, -7.33221322e-02, -2.11100243e-02,\n",
       "        -4.97247986e-02,  9.48454603e-04,  6.08338825e-02, -3.03488560e-02,\n",
       "         3.08645163e-02, -3.35978018e-03, -2.01330800e-02,  4.27754074e-02,\n",
       "        -2.62079164e-02,  1.79868173e-02, -2.93278638e-02, -1.64650083e-02,\n",
       "        -8.10131058e-02, -8.07588920e-04,  2.97276303e-02,  7.62847215e-02,\n",
       "        -1.85515713e-02,  4.44017015e-02, -2.94656260e-03, -1.49984676e-02,\n",
       "         2.01693587e-02, -3.89313921e-02, -3.62228137e-03, -2.98578329e-02,\n",
       "        -3.74166109e-02, -9.32832062e-03, -6.88236626e-03,  1.28855221e-02,\n",
       "         5.49248084e-02, -4.64207754e-02,  6.76378189e-03, -1.06134266e-02,\n",
       "         3.85977291e-02, -3.51828150e-02,  2.11052429e-02, -1.94585938e-02,\n",
       "         2.18237359e-02, -6.42525181e-02, -8.55437070e-02,  2.88324952e-02,\n",
       "        -2.45622117e-02, -4.45091352e-03,  8.33942927e-03, -1.86488256e-02,\n",
       "         8.57297853e-02, -3.35254648e-04,  3.54406610e-03, -3.49034704e-02,\n",
       "         2.68491674e-02, -3.82296592e-02,  2.55717859e-02,  2.30773520e-02,\n",
       "        -2.34820861e-02, -6.09542662e-03,  2.55867764e-02,  7.45529532e-02,\n",
       "         2.77502760e-02,  5.29718725e-03, -2.00657006e-02,  3.99168432e-02,\n",
       "         2.16667075e-03, -5.56329526e-02, -6.93090409e-02,  1.11874044e-02,\n",
       "         4.31361347e-02, -2.46848874e-02, -5.24236485e-02, -9.60693462e-04,\n",
       "         2.51449421e-07, -1.74782295e-02,  1.98589563e-02,  4.69724648e-03,\n",
       "        -3.35102715e-02,  2.27054246e-02, -4.13074158e-02, -5.78359514e-02,\n",
       "        -8.87900591e-03, -1.18540712e-02,  4.34330739e-02,  5.18840998e-02,\n",
       "         2.05168463e-02,  1.13081364e-02,  2.96894778e-02,  2.15743966e-02,\n",
       "        -1.83306728e-02, -1.23175476e-02,  4.27925885e-02,  4.08659317e-02,\n",
       "         4.67538163e-02, -7.62295583e-03, -3.93798715e-03,  1.63347814e-02,\n",
       "        -5.21230092e-03, -1.66509636e-02,  2.24444047e-02,  6.74268184e-03,\n",
       "         2.32234374e-02,  2.83578280e-02,  6.28971457e-02, -2.14319527e-02,\n",
       "        -4.27695662e-02, -3.15818861e-02,  3.14774137e-04,  1.43443989e-02,\n",
       "        -1.65658873e-02,  4.33711946e-04, -9.69268940e-03,  3.62114236e-02,\n",
       "         5.90694249e-02, -8.87206644e-02,  4.10318002e-03,  7.74608518e-04,\n",
       "        -7.70063139e-03,  3.82651165e-02, -2.95864232e-02, -2.84770746e-02,\n",
       "         7.14091510e-02,  1.30582368e-02,  2.83909813e-02,  1.55400634e-02,\n",
       "        -1.00346012e-02, -5.33050410e-02, -7.34904483e-02, -7.64821321e-02,\n",
       "         3.60178947e-02,  5.28124161e-03,  1.11484043e-02, -3.15177888e-02,\n",
       "         8.06488544e-02,  9.72088985e-03, -2.82614818e-03,  2.73855007e-03,\n",
       "        -1.77966114e-02, -3.04789729e-02,  3.29193026e-02, -1.94267612e-02,\n",
       "         1.94564427e-34,  2.29681656e-02, -1.23888990e-02, -3.96446278e-03,\n",
       "        -4.93981801e-02, -5.70323952e-02, -2.27124728e-02, -9.35451239e-02,\n",
       "        -1.98478960e-02,  3.49883176e-02,  8.27230960e-02, -1.43102529e-02],\n",
       "       dtype=float32)}"
      ]
     },
     "execution_count": 33,
     "metadata": {},
     "output_type": "execute_result"
    }
   ],
   "source": [
    "pages_and_chunks[111]"
   ]
  },
  {
   "cell_type": "code",
   "execution_count": null,
   "id": "9e7ace53-19a8-4f24-9a5f-3afe837d37b7",
   "metadata": {},
   "outputs": [],
   "source": []
  },
  {
   "cell_type": "code",
   "execution_count": 34,
   "id": "ea62af58-e0aa-4fda-bc04-ffdfe4720d31",
   "metadata": {
    "ExecuteTime": {
     "end_time": "2024-04-25T05:45:20.625724Z",
     "start_time": "2024-04-25T05:45:09.575870Z"
    }
   },
   "outputs": [],
   "source": [
    "text_chunks_and_embeddings_df = pd.DataFrame(pages_and_chunks)\n",
    "embeddings_df_save_path = \"text_chunks_and_embeddings_df.csv\"\n",
    "text_chunks_and_embeddings_df.to_csv(embeddings_df_save_path, index=False)"
   ]
  },
  {
   "cell_type": "code",
   "execution_count": 35,
   "id": "a6b5a352-9fbf-402e-bde2-b664922e0d51",
   "metadata": {
    "ExecuteTime": {
     "end_time": "2024-04-25T05:45:25.843116Z",
     "start_time": "2024-04-25T05:45:24.333044Z"
    }
   },
   "outputs": [
    {
     "data": {
      "text/html": [
       "<div>\n",
       "<style scoped>\n",
       "    .dataframe tbody tr th:only-of-type {\n",
       "        vertical-align: middle;\n",
       "    }\n",
       "\n",
       "    .dataframe tbody tr th {\n",
       "        vertical-align: top;\n",
       "    }\n",
       "\n",
       "    .dataframe thead th {\n",
       "        text-align: right;\n",
       "    }\n",
       "</style>\n",
       "<table border=\"1\" class=\"dataframe\">\n",
       "  <thead>\n",
       "    <tr style=\"text-align: right;\">\n",
       "      <th></th>\n",
       "      <th>page_number</th>\n",
       "      <th>sentence_chunk</th>\n",
       "      <th>chunk_char_count</th>\n",
       "      <th>chunk_word_count</th>\n",
       "      <th>chunk_token_count</th>\n",
       "      <th>embedding</th>\n",
       "    </tr>\n",
       "  </thead>\n",
       "  <tbody>\n",
       "    <tr>\n",
       "      <th>0</th>\n",
       "      <td>-6</td>\n",
       "      <td>also by stephen hawking a briefer history of t...</td>\n",
       "      <td>300</td>\n",
       "      <td>50</td>\n",
       "      <td>75.00</td>\n",
       "      <td>[0.007761275, -0.043458454, 0.021624561, -0.04...</td>\n",
       "    </tr>\n",
       "    <tr>\n",
       "      <th>1</th>\n",
       "      <td>-4</td>\n",
       "      <td>a brief history of time a bantam book publishi...</td>\n",
       "      <td>930</td>\n",
       "      <td>132</td>\n",
       "      <td>232.50</td>\n",
       "      <td>[0.034367207, -0.040824458, -0.0057925847, -0....</td>\n",
       "    </tr>\n",
       "    <tr>\n",
       "      <th>2</th>\n",
       "      <td>-4</td>\n",
       "      <td>its trademark, consisting of the words “bantam...</td>\n",
       "      <td>331</td>\n",
       "      <td>48</td>\n",
       "      <td>82.75</td>\n",
       "      <td>[0.06875393, 0.007447075, -0.031086687, 0.0038...</td>\n",
       "    </tr>\n",
       "    <tr>\n",
       "      <th>3</th>\n",
       "      <td>-3</td>\n",
       "      <td>contents cover other books by this author titl...</td>\n",
       "      <td>607</td>\n",
       "      <td>103</td>\n",
       "      <td>151.75</td>\n",
       "      <td>[0.0128484955, -0.019453801, -0.018313618, -0....</td>\n",
       "    </tr>\n",
       "    <tr>\n",
       "      <th>4</th>\n",
       "      <td>-2</td>\n",
       "      <td>about the author</td>\n",
       "      <td>16</td>\n",
       "      <td>3</td>\n",
       "      <td>4.00</td>\n",
       "      <td>[0.04096278, 0.057624783, -0.0049860245, 0.027...</td>\n",
       "    </tr>\n",
       "    <tr>\n",
       "      <th>...</th>\n",
       "      <td>...</td>\n",
       "      <td>...</td>\n",
       "      <td>...</td>\n",
       "      <td>...</td>\n",
       "      <td>...</td>\n",
       "      <td>...</td>\n",
       "    </tr>\n",
       "    <tr>\n",
       "      <th>692</th>\n",
       "      <td>203</td>\n",
       "      <td>2 0 6 t h e u n i v e r s e i n a n u t s h e l l</td>\n",
       "      <td>49</td>\n",
       "      <td>25</td>\n",
       "      <td>12.25</td>\n",
       "      <td>[-0.003972819, -0.019697886, -0.010792694, -0....</td>\n",
       "    </tr>\n",
       "    <tr>\n",
       "      <th>693</th>\n",
       "      <td>204</td>\n",
       "      <td>2 0 7 g l o s s a r y</td>\n",
       "      <td>21</td>\n",
       "      <td>11</td>\n",
       "      <td>5.25</td>\n",
       "      <td>[0.010606958, 0.018182505, 0.038448013, 0.0154...</td>\n",
       "    </tr>\n",
       "    <tr>\n",
       "      <th>694</th>\n",
       "      <td>205</td>\n",
       "      <td>2 0 8 t h e u n i v e r s e i n a n u t s h e l l</td>\n",
       "      <td>49</td>\n",
       "      <td>25</td>\n",
       "      <td>12.25</td>\n",
       "      <td>[-0.054821387, -0.0071016466, -0.0125736715, -...</td>\n",
       "    </tr>\n",
       "    <tr>\n",
       "      <th>695</th>\n",
       "      <td>206</td>\n",
       "      <td>2 0 9 s u g g e s t e d f u r t h e r r e a d ...</td>\n",
       "      <td>53</td>\n",
       "      <td>27</td>\n",
       "      <td>13.25</td>\n",
       "      <td>[-0.05764687, -0.027608752, 0.0080152005, -0.0...</td>\n",
       "    </tr>\n",
       "    <tr>\n",
       "      <th>696</th>\n",
       "      <td>207</td>\n",
       "      <td>2 1 0 t h e u n i v e r s e i n a n u t s h e l l</td>\n",
       "      <td>49</td>\n",
       "      <td>25</td>\n",
       "      <td>12.25</td>\n",
       "      <td>[-0.053894773, -0.00895156, -0.01190365, -0.02...</td>\n",
       "    </tr>\n",
       "  </tbody>\n",
       "</table>\n",
       "<p>697 rows × 6 columns</p>\n",
       "</div>"
      ],
      "text/plain": [
       "     page_number                                     sentence_chunk  \\\n",
       "0             -6  also by stephen hawking a briefer history of t...   \n",
       "1             -4  a brief history of time a bantam book publishi...   \n",
       "2             -4  its trademark, consisting of the words “bantam...   \n",
       "3             -3  contents cover other books by this author titl...   \n",
       "4             -2                                   about the author   \n",
       "..           ...                                                ...   \n",
       "692          203  2 0 6 t h e u n i v e r s e i n a n u t s h e l l   \n",
       "693          204                              2 0 7 g l o s s a r y   \n",
       "694          205  2 0 8 t h e u n i v e r s e i n a n u t s h e l l   \n",
       "695          206  2 0 9 s u g g e s t e d f u r t h e r r e a d ...   \n",
       "696          207  2 1 0 t h e u n i v e r s e i n a n u t s h e l l   \n",
       "\n",
       "     chunk_char_count  chunk_word_count  chunk_token_count  \\\n",
       "0                 300                50              75.00   \n",
       "1                 930               132             232.50   \n",
       "2                 331                48              82.75   \n",
       "3                 607               103             151.75   \n",
       "4                  16                 3               4.00   \n",
       "..                ...               ...                ...   \n",
       "692                49                25              12.25   \n",
       "693                21                11               5.25   \n",
       "694                49                25              12.25   \n",
       "695                53                27              13.25   \n",
       "696                49                25              12.25   \n",
       "\n",
       "                                             embedding  \n",
       "0    [0.007761275, -0.043458454, 0.021624561, -0.04...  \n",
       "1    [0.034367207, -0.040824458, -0.0057925847, -0....  \n",
       "2    [0.06875393, 0.007447075, -0.031086687, 0.0038...  \n",
       "3    [0.0128484955, -0.019453801, -0.018313618, -0....  \n",
       "4    [0.04096278, 0.057624783, -0.0049860245, 0.027...  \n",
       "..                                                 ...  \n",
       "692  [-0.003972819, -0.019697886, -0.010792694, -0....  \n",
       "693  [0.010606958, 0.018182505, 0.038448013, 0.0154...  \n",
       "694  [-0.054821387, -0.0071016466, -0.0125736715, -...  \n",
       "695  [-0.05764687, -0.027608752, 0.0080152005, -0.0...  \n",
       "696  [-0.053894773, -0.00895156, -0.01190365, -0.02...  \n",
       "\n",
       "[697 rows x 6 columns]"
      ]
     },
     "execution_count": 35,
     "metadata": {},
     "output_type": "execute_result"
    }
   ],
   "source": [
    "text_chunks_and_embeddings_df"
   ]
  },
  {
   "cell_type": "code",
   "execution_count": 36,
   "id": "7b504ce2-a992-4449-bc00-fb7c3a695f90",
   "metadata": {
    "ExecuteTime": {
     "end_time": "2024-04-25T05:45:33.024982Z",
     "start_time": "2024-04-25T05:45:32.998240Z"
    }
   },
   "outputs": [],
   "source": [
    "import torch\n",
    "pages_and_chunks = text_chunks_and_embeddings_df.to_dict(orient=\"records\")\n",
    "embeddings = text_chunks_and_embeddings_df[\"embedding\"].to_list()\n",
    "tensor_embeddings = [torch.Tensor(embedding) for embedding in embeddings]\n",
    "embedding_tensor = torch.stack(tensor_embeddings).to(device)"
   ]
  },
  {
   "cell_type": "code",
   "execution_count": 37,
   "id": "8536a04a-3025-49e0-9b12-18cd3f9c58a9",
   "metadata": {
    "ExecuteTime": {
     "end_time": "2024-04-25T05:45:34.610084Z",
     "start_time": "2024-04-25T05:45:34.597198Z"
    }
   },
   "outputs": [
    {
     "data": {
      "text/plain": [
       "tensor([[ 0.0078, -0.0435,  0.0216,  ...,  0.0420, -0.0227, -0.0199],\n",
       "        [ 0.0344, -0.0408, -0.0058,  ...,  0.0550, -0.0617, -0.0125],\n",
       "        [ 0.0688,  0.0074, -0.0311,  ..., -0.0414, -0.0021, -0.0064],\n",
       "        ...,\n",
       "        [-0.0548, -0.0071, -0.0126,  ...,  0.0578, -0.0208, -0.0249],\n",
       "        [-0.0576, -0.0276,  0.0080,  ...,  0.0491, -0.0014, -0.0075],\n",
       "        [-0.0539, -0.0090, -0.0119,  ...,  0.0675,  0.0009, -0.0161]],\n",
       "       device='cuda:0')"
      ]
     },
     "execution_count": 37,
     "metadata": {},
     "output_type": "execute_result"
    }
   ],
   "source": [
    "embedding_tensor"
   ]
  },
  {
   "cell_type": "code",
   "execution_count": 38,
   "id": "2888af51-1db1-45f0-ae84-9062fd28fca8",
   "metadata": {
    "ExecuteTime": {
     "end_time": "2024-04-25T05:45:35.841712Z",
     "start_time": "2024-04-25T05:45:35.769120Z"
    }
   },
   "outputs": [
    {
     "name": "stdout",
     "output_type": "stream",
     "text": [
      "Query: what are black holes\n",
      "Time take to get scores on 697 embeddings: 0.00020 seconds.\n"
     ]
    },
    {
     "data": {
      "text/plain": [
       "torch.return_types.topk(\n",
       "values=tensor([0.6323, 0.5818, 0.5733, 0.5266, 0.5155], device='cuda:0'),\n",
       "indices=tensor([148, 182, 544, 542, 173], device='cuda:0'))"
      ]
     },
     "execution_count": 38,
     "metadata": {},
     "output_type": "execute_result"
    }
   ],
   "source": [
    "query = \"what are black holes\"\n",
    "print(f\"Query: {query}\")\n",
    "\n",
    "query_embedding = embedding_model.encode(query, convert_to_tensor=True)\n",
    "\n",
    "from time import perf_counter as timer\n",
    "\n",
    "start_time = timer()\n",
    "dot_scores = util.dot_score(a=query_embedding, b=embedding_tensor)[0]\n",
    "end_time = timer()\n",
    "\n",
    "print(f\"Time take to get scores on {len(embeddings)} embeddings: {end_time-start_time:.5f} seconds.\")\n",
    "\n",
    "top_results_dot_product = torch.topk(dot_scores, k=5)\n",
    "top_results_dot_product"
   ]
  },
  {
   "cell_type": "code",
   "execution_count": 39,
   "id": "8bc836c1-eb63-4fb5-8bfd-48739587389f",
   "metadata": {
    "ExecuteTime": {
     "end_time": "2024-04-25T05:45:42.611477Z",
     "start_time": "2024-04-25T05:45:42.571961Z"
    }
   },
   "outputs": [
    {
     "name": "stdout",
     "output_type": "stream",
     "text": [
      "t chapter 6 black holes he term black hole is of very recent origin.it was coined in 1969 by the american scientist john wheeler as a graphic description of an idea that goes back at least two hundred years, to a time when there were two theories about light: one, which newton favored, was that it was composed of particles; the other was that it was made of waves.we now know that really both theories are correct.by the wave/particle duality of quantum mechanics, light can be regarded as both a wave and a particle.under the theory that light is made up of waves, it was not clear how it would respond to gravity.but if light is composed of particles, one might expect them to be affected by gravity in the same way that cannonballs, rockets, and planets are.at first people thought that particles of light traveled infinitely fast, so gravity would not have been able to slow them down, but the discovery by roemer that light travels at a finite speed meant that gravity might have an important effect.on this assumption, a cambridge don, john michell, wrote a paper in 1783 in the philosophical transactions of the royal society of london in which he pointed out that a star that was sufficiently massive and compact would have such a strong gravitational field that light could not escape: any light emitted from the surface of the star would be dragged back by the star’s gravitational attraction before it could get very far.michell suggested that there might be a large number of stars like this.although we would not be able to see them because the light from them would not reach us, we would still feel their gravitational attraction.\n"
     ]
    }
   ],
   "source": [
    "print(pages_and_chunks[148]['sentence_chunk'])"
   ]
  },
  {
   "cell_type": "code",
   "execution_count": 40,
   "id": "2082466f-e24f-41bd-b7e6-66bc33729c6b",
   "metadata": {
    "ExecuteTime": {
     "end_time": "2024-04-25T05:46:00.119107Z",
     "start_time": "2024-04-25T05:46:00.033149Z"
    }
   },
   "outputs": [
    {
     "name": "stdout",
     "output_type": "stream",
     "text": [
      "Query: what happens to a human when he/she enters a black hole\n",
      "Time take to get scores on 697 embeddings: 0.00016 seconds.\n"
     ]
    },
    {
     "data": {
      "text/plain": [
       "torch.return_types.topk(\n",
       "values=tensor([0.5993, 0.5880, 0.5787, 0.5642, 0.5560], device='cuda:0'),\n",
       "indices=tensor([164, 166, 561, 163, 204], device='cuda:0'))"
      ]
     },
     "execution_count": 40,
     "metadata": {},
     "output_type": "execute_result"
    }
   ],
   "source": [
    "query = \"what happens to a human when he/she enters a black hole\"\n",
    "print(f\"Query: {query}\")\n",
    "\n",
    "\n",
    "query_embedding = embedding_model.encode(query, convert_to_tensor=True)\n",
    "\n",
    "from time import perf_counter as timer\n",
    "\n",
    "start_time = timer()\n",
    "dot_scores = util.dot_score(a=query_embedding, b=embedding_tensor)[0]\n",
    "end_time = timer()\n",
    "\n",
    "print(f\"Time take to get scores on {len(embeddings)} embeddings: {end_time-start_time:.5f} seconds.\")\n",
    "\n",
    "top_results_dot_product = torch.topk(dot_scores, k=5)\n",
    "top_results_dot_product"
   ]
  },
  {
   "cell_type": "code",
   "execution_count": 41,
   "id": "78e0ea1d-22da-4c43-a2f2-0ab73c2c1f9b",
   "metadata": {
    "ExecuteTime": {
     "end_time": "2024-04-25T05:46:07.365792Z",
     "start_time": "2024-04-25T05:46:07.336981Z"
    },
    "scrolled": true
   },
   "outputs": [
    {
     "data": {
      "text/plain": [
       "{'page_number': 79,\n",
       " 'sentence_chunk': 'the laws of science and our ability to predict the future would break down.however, any observer who remained outside the black hole would not be affected by this failure of predictability, because neither light nor any other signal could reach him from the singularity.this remarkable fact led roger penrose to propose the cosmic censorship hypothesis, which might be paraphrased as “god abhors a naked singularity.”in other words, the singularities produced by gravitational collapse occur only in places, like black holes, where they are decently hidden from outside view by an event horizon.strictly, this is what is known as the weak cosmic censorship hypothesis: it protects observers who remain outside the black hole from the consequences of the breakdown of predictability that occurs at the singularity, but it does nothing at all for the poor unfortunate astronaut who falls into the hole.there are some solutions of the equations of general relativity in which it is possible for our astronaut to see a naked singularity: he may be able to avoid hitting the singularity and instead fall through a “wormhole” and come out in another region of the universe.this would offer great possibilities for travel in space and time, but unfortunately it seems that these solutions may all be highly unstable; the least disturbance, such as the presence of an astronaut, may change them so that the astronaut could not see the singularity until he hit it and his time came to an end.in other words, the singularity would always lie in his future and never in his past.the strong version of the cosmic censorship hypothesis states that in a realistic solution, the singularities would always lie either entirely in the future (like the singularities of gravitational collapse) or entirely in the past (like the big bang).i strongly believe in cosmic censorship so i bet kip thorne and john preskill of cal tech that it would always hold.',\n",
       " 'chunk_char_count': 1936,\n",
       " 'chunk_word_count': 316,\n",
       " 'chunk_token_count': 484.0,\n",
       " 'embedding': array([-2.12934781e-02, -9.54282470e-03,  1.54158985e-02, -3.96646298e-02,\n",
       "         5.69956936e-03, -4.34439667e-02, -9.44897532e-02,  4.63196374e-02,\n",
       "         8.71059224e-02,  5.58418781e-02,  8.11873525e-02,  7.31251249e-03,\n",
       "        -5.70646189e-02,  1.44296233e-03,  4.32093963e-02,  2.88982913e-02,\n",
       "        -7.52823008e-03, -9.36878379e-03, -4.24589776e-02,  2.66123443e-05,\n",
       "         9.96769406e-03, -9.53271228e-04,  1.48476623e-02,  4.09155488e-02,\n",
       "         1.50713418e-02, -8.01602844e-03, -6.85960846e-03,  3.69645543e-02,\n",
       "        -3.50129232e-02, -9.49288486e-04, -4.86863405e-02,  2.88919490e-02,\n",
       "        -2.16817707e-02,  5.68318069e-02,  2.34951813e-06,  4.01956253e-02,\n",
       "        -2.11625919e-02, -3.67962942e-03,  8.50964617e-03, -5.34977950e-02,\n",
       "        -1.44860804e-01, -4.32132091e-03,  7.86180375e-04, -5.01087215e-03,\n",
       "         3.83475143e-03,  2.96092369e-02, -4.40683067e-02,  3.65575626e-02,\n",
       "        -4.79839742e-02, -5.45425853e-03, -9.19440947e-03, -2.01338157e-02,\n",
       "         2.14383956e-02,  2.93957964e-02, -9.18617323e-02, -3.68815400e-02,\n",
       "         1.96779035e-02, -1.99190024e-02,  1.69775970e-02, -1.85889788e-02,\n",
       "        -1.28818583e-02,  4.76103052e-02,  2.56091412e-02, -2.68965680e-02,\n",
       "         4.19897333e-05, -1.99249927e-02, -2.07643979e-03,  4.37901318e-02,\n",
       "        -5.81444427e-02, -5.71185984e-02,  2.40296056e-03, -4.06098142e-02,\n",
       "        -3.81198293e-03,  3.74640413e-02,  1.62822716e-02, -5.52491285e-02,\n",
       "        -3.21526895e-03, -2.71359459e-03, -1.68226957e-02, -3.73521633e-03,\n",
       "         3.07828244e-02,  2.87303366e-02, -3.70572023e-02, -1.43646067e-02,\n",
       "         2.61335559e-02, -3.83123360e-03,  1.91853917e-03, -4.86694165e-02,\n",
       "        -7.17332810e-02, -4.35152603e-03,  2.84320675e-02, -1.24387434e-02,\n",
       "         2.93619484e-02, -2.03275960e-02, -4.43432592e-02,  2.21131463e-03,\n",
       "         6.50668424e-03,  4.31015939e-02, -1.32540967e-02,  1.76760461e-02,\n",
       "         8.21433589e-03,  3.76389958e-02,  4.46247570e-02, -7.36977812e-03,\n",
       "         2.61864644e-02, -7.16350181e-03, -4.31387872e-02,  4.63717878e-02,\n",
       "         2.20175181e-03,  5.52993752e-02, -6.10477943e-03, -7.02493964e-03,\n",
       "         1.02359150e-02,  2.86209453e-02,  8.10961723e-02, -2.85177249e-02,\n",
       "         4.17013280e-02, -2.51799021e-02,  4.64611016e-02,  9.88178421e-03,\n",
       "        -2.96713449e-02,  3.35472226e-02, -9.97573696e-03, -2.71393731e-02,\n",
       "        -3.48577537e-02,  2.93174032e-02,  4.61866194e-03, -3.68167050e-02,\n",
       "        -7.96004105e-03,  4.40734625e-02, -1.09119080e-02, -3.58677655e-02,\n",
       "        -3.78708020e-02,  5.50951026e-02, -1.30367782e-02, -2.28669010e-02,\n",
       "         4.43083197e-02,  4.88605276e-02, -7.71364048e-02, -1.20640211e-02,\n",
       "         3.01761776e-02,  3.42216529e-02, -3.80290672e-03,  5.14577553e-02,\n",
       "        -2.14803368e-02, -1.50335664e-02, -7.99280778e-03,  2.79341568e-03,\n",
       "        -5.61013781e-02, -2.17971355e-02,  3.30278091e-02,  1.06857400e-02,\n",
       "        -1.05066691e-02, -5.98531635e-03, -1.77265145e-02,  3.91564667e-02,\n",
       "         6.13621026e-02,  4.56373952e-03, -3.27177085e-02,  3.17867436e-02,\n",
       "         1.20200580e-02, -3.15273404e-02, -3.15558426e-02,  4.96780081e-03,\n",
       "        -1.70192774e-02,  2.83745117e-02, -7.66464248e-02,  4.16011363e-03,\n",
       "         4.92560193e-02,  4.27988693e-02, -2.03127656e-02,  4.11669612e-02,\n",
       "         2.65526343e-02, -7.65782446e-02, -1.52257495e-02,  8.56434405e-02,\n",
       "         4.60278068e-04,  2.09308676e-02,  2.78746821e-02, -7.59912357e-02,\n",
       "        -2.64640711e-02,  4.41207141e-02, -2.18784288e-02,  1.19451862e-02,\n",
       "        -4.51795943e-02, -9.62928869e-03,  3.42195332e-02, -3.90663892e-02,\n",
       "         3.79123874e-02, -4.06525023e-02,  1.99876949e-02,  4.31044027e-02,\n",
       "         3.96820121e-02, -1.44848775e-03, -2.13715974e-02,  1.21779870e-02,\n",
       "        -2.14142185e-02,  7.63775082e-03, -3.39934826e-02,  3.20490310e-03,\n",
       "        -3.33755910e-02,  3.09657399e-02,  4.36382145e-02,  4.08273097e-03,\n",
       "         4.29980941e-02, -3.42549235e-02, -1.44881131e-02, -3.43604609e-02,\n",
       "        -4.20649834e-02, -4.67740968e-02,  2.93759108e-02,  2.52003502e-02,\n",
       "        -4.10428531e-02, -1.71066704e-03,  2.34063696e-02,  7.71320611e-02,\n",
       "        -9.61312838e-03,  3.66978459e-02, -3.38176191e-02, -9.00235865e-03,\n",
       "        -2.52447352e-02,  9.87272486e-02,  1.93387736e-02,  3.29981893e-02,\n",
       "        -4.32644971e-02, -4.10871916e-02, -4.10006829e-02, -2.47775298e-02,\n",
       "        -4.89049479e-02,  1.11842912e-03,  3.38256024e-02,  2.20196899e-02,\n",
       "         2.22396627e-02,  8.97273608e-03, -4.49714772e-02, -2.85261087e-02,\n",
       "        -8.71892944e-02,  4.05976400e-02,  4.71240990e-02, -7.57856816e-02,\n",
       "        -6.01780461e-03,  5.24838679e-02,  3.39868525e-03, -9.47774667e-03,\n",
       "         1.06815016e-02,  2.40567382e-02,  3.12244389e-02,  4.84502316e-02,\n",
       "         2.24432610e-02,  1.78882945e-02, -2.56744027e-02, -8.47571343e-03,\n",
       "         6.15622243e-03, -4.67930436e-02,  1.60432644e-02, -3.60014662e-02,\n",
       "         1.38486307e-02, -2.71341037e-02, -3.21971625e-02, -6.30166382e-02,\n",
       "        -5.08691780e-02, -4.66946652e-03,  1.43520003e-02, -3.22996192e-02,\n",
       "        -4.23555225e-02, -4.48630452e-02,  4.79360670e-02,  3.49115254e-03,\n",
       "         3.83077711e-02,  5.97768836e-03, -2.06744224e-02, -5.07653579e-02,\n",
       "         2.99100764e-03,  1.25772518e-03, -7.71967247e-02,  1.91831775e-02,\n",
       "         3.79369743e-02,  1.20113986e-02, -4.03667316e-02, -4.16454487e-02,\n",
       "         3.22089791e-02,  2.58577596e-02, -8.37338157e-03, -2.45495308e-02,\n",
       "        -1.14845484e-02,  1.81701756e-03,  4.49796543e-02,  2.09445450e-02,\n",
       "        -1.02702733e-02,  6.39744028e-02,  3.36526185e-02,  1.49713140e-02,\n",
       "         2.57370714e-02,  3.90702374e-02, -2.59112362e-02, -1.34669701e-02,\n",
       "        -2.50602118e-03, -3.36221345e-02, -2.03727721e-03,  5.29497489e-02,\n",
       "        -6.02057250e-03,  4.36745510e-02,  5.84974810e-02, -3.29119302e-02,\n",
       "         2.04939842e-02,  3.40092592e-02, -3.48262228e-02,  2.45797113e-02,\n",
       "         2.19538826e-02, -1.61127951e-02, -5.87411262e-02,  1.38697289e-02,\n",
       "        -7.53428265e-02, -4.64511663e-02, -3.89479809e-02, -2.79966439e-03,\n",
       "         6.64421245e-02, -2.94232499e-02, -3.41315046e-02, -1.46595351e-02,\n",
       "         4.77357507e-02,  3.89140658e-02, -1.72608402e-02,  1.16663491e-02,\n",
       "         1.32711390e-02,  2.65247058e-02,  1.62777267e-02,  2.53723375e-03,\n",
       "         1.54890446e-02,  7.16578402e-03, -3.03992014e-02,  1.09345280e-01,\n",
       "         3.58591019e-03, -2.93765850e-02,  7.45979175e-02, -7.97432289e-02,\n",
       "         5.31004034e-02, -3.41111198e-02, -2.10135393e-02,  3.47597077e-02,\n",
       "         7.25904992e-03, -4.11453061e-02,  3.90048400e-02, -3.34243290e-02,\n",
       "         4.45589572e-02,  4.67789695e-02,  2.19937656e-02,  3.74850854e-02,\n",
       "        -2.54504047e-02,  3.92745845e-02, -8.83660093e-02, -3.20596807e-02,\n",
       "         3.33839282e-02,  1.59087740e-02,  5.39834611e-02, -4.57153097e-02,\n",
       "        -2.46128906e-02,  1.49669973e-02, -4.35001589e-02,  3.51268165e-02,\n",
       "        -9.72379837e-03,  3.87237184e-02,  5.75948432e-02,  2.39952765e-02,\n",
       "         6.49424968e-03, -5.43391295e-02,  1.44237168e-02,  2.52528694e-02,\n",
       "        -3.77313830e-02, -2.92178150e-02, -4.74935323e-02,  8.48376751e-03,\n",
       "         3.06496695e-02,  1.41285248e-02, -1.26923537e-02,  2.02148575e-02,\n",
       "        -8.46865959e-03, -3.42496810e-03, -5.96285537e-02, -1.44768069e-02,\n",
       "        -3.58219142e-03, -5.46055436e-02,  2.48389933e-02, -6.48633670e-03,\n",
       "        -5.86971268e-02, -3.57474871e-02, -6.14919513e-02,  3.99044827e-02,\n",
       "        -2.07234398e-02,  6.95699733e-03, -2.12044846e-02,  4.41713892e-02,\n",
       "         7.44982883e-02,  5.47773987e-02, -2.52504610e-02,  7.55276624e-03,\n",
       "         2.60216631e-02,  1.77433225e-03, -7.93611538e-03, -3.24622653e-02,\n",
       "        -3.53880622e-03,  1.04537606e-02,  9.63306800e-03,  7.43351877e-03,\n",
       "         2.84412615e-02,  1.30947130e-02, -6.58816919e-02, -9.69001465e-03,\n",
       "        -7.83280209e-02,  5.74123440e-03, -1.10558905e-01, -1.76503472e-02,\n",
       "        -1.06219365e-03, -2.64362004e-02, -2.41182721e-03,  4.73243259e-02,\n",
       "         4.34897654e-02,  4.71909456e-02, -3.11153606e-02,  7.64752328e-02,\n",
       "         5.26384488e-02, -4.95892167e-02,  1.42558254e-02,  5.02217421e-03,\n",
       "        -3.71059077e-03, -1.05884988e-02,  1.40655953e-02, -7.65129998e-02,\n",
       "         1.01602974e-03,  2.21647751e-02, -1.95692200e-02, -5.06656021e-02,\n",
       "        -9.96606611e-03,  5.59673179e-03, -5.75248525e-02, -2.97086891e-02,\n",
       "        -1.10281389e-02,  6.84586763e-02, -9.78714377e-02,  4.36551906e-02,\n",
       "         7.19699217e-03, -5.60915135e-02,  2.25685015e-02, -9.78983659e-03,\n",
       "         2.07656696e-02, -1.71959680e-02,  9.33228061e-04, -1.14436157e-03,\n",
       "         4.66420092e-02,  4.16867156e-03, -9.91540588e-03, -8.26264098e-02,\n",
       "         4.86836173e-02,  2.48886738e-02, -1.06627159e-02, -2.62385029e-02,\n",
       "         5.85000264e-03, -8.95328354e-03, -2.51666978e-02,  1.05897291e-02,\n",
       "         5.31442836e-02, -8.56697466e-03,  1.40591804e-02, -9.85843129e-03,\n",
       "        -5.81864342e-02,  6.66445792e-02, -3.83858159e-02, -1.86513283e-03,\n",
       "         2.74583255e-03,  2.58202991e-03,  4.40863334e-02, -7.83672184e-03,\n",
       "         1.49452304e-02,  8.28111544e-03, -4.52651903e-02, -5.60497902e-02,\n",
       "        -2.43794955e-02, -2.24952307e-02,  6.19417392e-02,  2.90374272e-02,\n",
       "        -1.02746589e-02, -5.64580187e-02,  4.09549708e-03,  1.49982506e-02,\n",
       "         2.87826899e-02, -5.02465963e-02, -5.51309474e-02, -2.01687273e-02,\n",
       "         3.22046690e-02,  2.63442472e-02,  2.04431377e-02, -7.98171200e-03,\n",
       "         2.54737046e-02, -6.44070283e-02,  1.25273392e-02, -7.14215636e-02,\n",
       "        -6.65675178e-02, -8.36980343e-03,  8.68276656e-02,  5.43108173e-02,\n",
       "         5.99908903e-02,  4.00889069e-02, -4.69405291e-04, -2.83596665e-02,\n",
       "        -1.31257148e-02,  9.12256725e-03, -1.34521518e-02, -6.02294784e-03,\n",
       "        -2.55381595e-02,  1.49836438e-02, -3.61468121e-02, -2.20810212e-02,\n",
       "        -8.35001189e-03, -1.65681448e-02,  1.00849466e-02,  2.46517360e-02,\n",
       "        -1.64853670e-02,  7.34099001e-02, -5.91023266e-02,  1.67722534e-02,\n",
       "         1.76173379e-03,  6.59526745e-03, -3.34344916e-02,  8.04206450e-03,\n",
       "         2.39193649e-03,  7.33329877e-02, -1.86860543e-02,  1.42067662e-02,\n",
       "        -5.11343740e-02,  9.62449890e-03,  5.05362696e-04, -2.12992020e-02,\n",
       "         6.76961863e-05,  1.31183090e-02, -5.74678648e-03, -4.38477062e-02,\n",
       "         1.85918584e-02,  2.38985717e-02,  6.95599541e-02,  1.65318828e-02,\n",
       "         1.06974691e-03, -2.22809762e-02,  3.92817855e-02, -5.48247853e-03,\n",
       "         1.29037781e-03, -3.00712921e-02, -4.13719267e-02, -4.53662314e-03,\n",
       "         2.79643759e-02,  2.86006946e-02, -2.28264108e-02, -2.57603219e-03,\n",
       "        -5.24045993e-03, -3.23505662e-02, -6.78924546e-02, -6.27874585e-33,\n",
       "         8.00307095e-03, -6.41509518e-02, -1.63653549e-02, -6.87307343e-02,\n",
       "         3.64302248e-02, -3.74120586e-02, -2.85586845e-02, -4.49569263e-02,\n",
       "        -1.35272089e-02, -9.26561747e-03,  2.74070054e-02, -2.51523964e-02,\n",
       "        -1.26438320e-03,  4.30414863e-02,  3.28070894e-02, -1.69214942e-02,\n",
       "         5.22489008e-03,  4.52700518e-02,  7.52589330e-02,  1.12099545e-02,\n",
       "         1.34190246e-02,  5.18893711e-02, -6.05776068e-03, -5.46977259e-02,\n",
       "         2.03334354e-02, -7.23587647e-02,  1.29939085e-02, -1.11368927e-03,\n",
       "         4.11296487e-02, -1.86631493e-02,  7.02237478e-03, -4.14205417e-02,\n",
       "         1.12330531e-06,  1.90291032e-02,  4.81345206e-02, -1.73819531e-02,\n",
       "         4.69552353e-02,  3.71445417e-02, -7.57197849e-03, -8.52053519e-03,\n",
       "        -1.02118049e-02,  1.10405507e-02, -3.74643542e-02,  8.21595360e-03,\n",
       "         3.66427819e-03, -6.41799271e-02, -2.46339533e-02,  4.47401702e-02,\n",
       "        -9.32664052e-03,  1.60622969e-02,  1.86770596e-02,  2.71796063e-02,\n",
       "        -1.47650456e-02, -9.49788932e-03,  1.95616554e-03,  2.11403072e-02,\n",
       "         2.03400757e-02, -3.69005539e-02,  4.04375978e-02,  3.20222490e-02,\n",
       "        -1.76169258e-02, -9.24944878e-02,  3.27711478e-02, -3.47622782e-02,\n",
       "         2.08903179e-02, -5.82115166e-02,  3.48371756e-03, -2.48098634e-02,\n",
       "         2.46487036e-02, -9.06334668e-02, -4.47251908e-02, -4.77158688e-02,\n",
       "        -9.77924932e-03,  1.65967792e-02,  1.46230161e-02,  1.52476253e-02,\n",
       "        -4.62440494e-03, -2.62072566e-03, -3.39613706e-02, -3.35885510e-02,\n",
       "        -2.05187574e-02,  9.52095836e-02, -3.60620096e-02,  1.04253525e-02,\n",
       "         8.13586265e-02, -1.62918959e-02, -7.64699234e-03,  1.34697258e-02,\n",
       "         2.64551099e-02,  2.88980510e-02,  1.74254533e-02,  6.57540560e-02,\n",
       "        -3.30055691e-02,  2.45123003e-02,  8.66292566e-02, -1.06470976e-02,\n",
       "         5.64582925e-03, -8.61567631e-03, -1.59064401e-02,  4.63356897e-02,\n",
       "         1.46326283e-02,  5.32905236e-02,  3.15749720e-02, -1.31116412e-03,\n",
       "        -4.90856059e-02,  4.34177322e-03, -6.09389087e-03,  3.21166292e-02,\n",
       "         1.99570116e-02, -9.79313720e-03,  1.77665539e-02, -1.34871257e-02,\n",
       "         7.47651830e-02, -3.11914012e-02, -1.29651837e-02,  3.60645317e-02,\n",
       "        -1.62971560e-02,  7.32693030e-03,  2.56792102e-02,  9.27662030e-02,\n",
       "         4.52412292e-02, -9.08069015e-02,  1.80771910e-02, -4.21990827e-03,\n",
       "         1.08363573e-03,  3.56573379e-03,  1.20004863e-02, -2.26995256e-02,\n",
       "         8.40288866e-03, -4.38016802e-02, -7.66641321e-03,  1.01285130e-02,\n",
       "         2.83257293e-07,  3.22436690e-02, -3.06961164e-02, -7.21184723e-03,\n",
       "        -9.13673416e-02,  2.78733522e-02, -1.21228416e-02,  1.97530556e-02,\n",
       "        -2.14993674e-03,  1.43135665e-02,  9.91051644e-02,  2.63969526e-02,\n",
       "        -3.72361131e-02,  3.12867993e-03,  4.85267714e-02, -3.55959050e-02,\n",
       "         2.71326620e-02, -1.67418178e-02, -9.87387355e-03, -5.24040684e-03,\n",
       "         3.02322488e-02, -1.51929334e-02,  1.68749690e-03, -7.54211238e-03,\n",
       "         5.15948273e-02,  1.71722528e-02, -4.31198515e-02, -3.36561911e-02,\n",
       "         2.41144728e-02, -2.95946398e-03, -4.70497534e-02, -1.16742244e-02,\n",
       "         9.21979323e-02, -1.41403154e-02, -2.31103878e-02, -3.87809984e-02,\n",
       "        -3.37458868e-03,  9.25391261e-03, -1.69530455e-02, -7.28855049e-03,\n",
       "        -7.34147569e-03,  2.68284045e-02,  2.91729998e-02,  1.43097923e-03,\n",
       "        -1.36981811e-02,  1.14624705e-02,  2.59541962e-02, -3.26849036e-02,\n",
       "         2.37311721e-02,  4.45468910e-02, -1.17972083e-02, -8.40872992e-03,\n",
       "         2.40176320e-02, -9.91004612e-03,  8.00850801e-03, -4.85586002e-02,\n",
       "        -1.94356609e-02,  9.89525393e-03, -3.56163234e-02,  4.05235253e-02,\n",
       "         5.27033657e-02, -4.78764139e-02,  2.26324182e-02, -2.23130751e-02,\n",
       "        -3.75585780e-02, -3.06405835e-02, -7.24238008e-02,  1.94944460e-02,\n",
       "         2.47521710e-34,  4.76667732e-02, -9.04860627e-03,  3.03638354e-03,\n",
       "         5.25142765e-03,  7.13889301e-02,  1.90474167e-02, -3.90218496e-02,\n",
       "        -3.92805859e-02,  3.08173224e-02,  9.29407252e-05, -2.46029366e-02],\n",
       "       dtype=float32)}"
      ]
     },
     "execution_count": 41,
     "metadata": {},
     "output_type": "execute_result"
    }
   ],
   "source": [
    "pages_and_chunks[164]"
   ]
  },
  {
   "cell_type": "code",
   "execution_count": 42,
   "id": "0ee2826d-b819-41d0-820b-cc7b6050b607",
   "metadata": {},
   "outputs": [],
   "source": [
    "def retrival_query_resources(query:str,\n",
    "                             embeddings: torch.tensor,\n",
    "                             model: SentenceTransformer=embedding_model,\n",
    "                             indices_to_return:int = 5):\n",
    "\n",
    "\n",
    "\n",
    "        query_embedding = model.encode(query,convert_to_tensor=True)\n",
    "        start_time = timer()\n",
    "        dot_scores = util.dot_score(query_embedding,embeddings)[0]\n",
    "        end_time = timer()\n",
    "        print(f\"[INFO] Time taken to get scores on {len(embeddings)} embeddings :{end_time - start_time}\")\n",
    "        scores,indices = torch.topk(dot_scores,k=indices_to_return)\n",
    "        return scores,indices\n",
    "\n",
    "def print_query_results(query:str,embeddings,pages_and_chunks=pages_and_chunks):\n",
    "    \n",
    "    scores,indices = retrival_query_resources(query=query,\n",
    "                                              embeddings=embeddings)\n",
    "\n",
    "    for score,idx in zip(scores,indices):\n",
    "        print(f\"Score:{score*100:.2f}\")\n",
    "        print(\"Text:\")\n",
    "        print(pages_and_chunks[idx]['sentence_chunk'])\n",
    "        print(\"\\n\")"
   ]
  },
  {
   "cell_type": "code",
   "execution_count": 43,
   "id": "c4c69d55-5503-4e11-9d12-8098200faf78",
   "metadata": {},
   "outputs": [
    {
     "name": "stdout",
     "output_type": "stream",
     "text": [
      "[INFO] Time taken to get scores on 697 embeddings :6.34000000445667e-05\n",
      "Score:59.09\n",
      "Text:\n",
      "t chapter 6 black holes he term black hole is of very recent origin.it was coined in 1969 by the american scientist john wheeler as a graphic description of an idea that goes back at least two hundred years, to a time when there were two theories about light: one, which newton favored, was that it was composed of particles; the other was that it was made of waves.we now know that really both theories are correct.by the wave/particle duality of quantum mechanics, light can be regarded as both a wave and a particle.under the theory that light is made up of waves, it was not clear how it would respond to gravity.but if light is composed of particles, one might expect them to be affected by gravity in the same way that cannonballs, rockets, and planets are.at first people thought that particles of light traveled infinitely fast, so gravity would not have been able to slow them down, but the discovery by roemer that light travels at a finite speed meant that gravity might have an important effect.on this assumption, a cambridge don, john michell, wrote a paper in 1783 in the philosophical transactions of the royal society of london in which he pointed out that a star that was sufficiently massive and compact would have such a strong gravitational field that light could not escape: any light emitted from the surface of the star would be dragged back by the star’s gravitational attraction before it could get very far.michell suggested that there might be a large number of stars like this.although we would not be able to see them because the light from them would not reach us, we would still feel their gravitational attraction.\n",
      "\n",
      "\n",
      "Score:55.92\n",
      "Text:\n",
      "b chapter 7 black holes ain’t so black efore 1970, my research on general relativity had concentrated mainly on the question of whether or not there had been a big bang singularity.however, one evening in november that year, shortly after the birth of my daughter, lucy, i started to think about black holes as i was getting into bed.my disability makes this rather a slow process, so i had plenty of time.at that date there was no precise definition of which points in space-time lay inside a black hole and which lay outside.i had already discussed with roger penrose the idea of defining a black hole as the set of events from which it was not possible to escape to a large distance, which is now the generally accepted definition.it means that the boundary of the black hole, the event horizon, is formed by the light rays that just fail to escape from the black hole, hovering forever just on the edge (fig.7.1).it is a bit like running away from the police and just managing to keep one step ahead but not being able to get clear away!suddenly i realized that the paths of these light rays could never approach one another.if they did, they must eventually run into one another.\n",
      "\n",
      "\n",
      "Score:54.75\n",
      "Text:\n",
      "113 p r e d i c t i n g t h e f u t u r e (fig.4.1 1) stars form in clouds of gas and dust like the orion nebula. holes, and his attitude was shared by most of the old guard in gen- eral relativity.i remember going to paris to give a seminar on my discovery that quantum theory means that black holes aren't com- pletely black.my seminar fell rather flat because at that time almost no one in paris believed in black holes.the french also felt that the name as they translated it, trou noir, had dubious sexual connotations and should be replaced by astre occlu, or \"hidden star.\"however, nei- ther this nor other suggested names caught the public imagination like the term black bole, which was first introduced by john archibald wheeler, the american physicist who inspired much of the modern work in this field. the discovery of quasars in 1 9 6 3 brought forth an outburst of theoretical work on black holes and observational attempts to detect them (fig.4 .1 0 ) .here is the picture that has emerged.\n",
      "\n",
      "\n",
      "Score:54.58\n",
      "Text:\n",
      "in 1 9 1 6 , shortly after the theory was first formulated, karl schwarzschild (who died soon after of an illness contracted on the russian front in the first world war) found a solution of the field equations of general relativity that represented a black hole.what schwarzschild had found wasn't understood or its importance rec- ognized for many years.einstein himself never believed in black\n",
      "\n",
      "\n",
      "Score:48.68\n",
      "Text:\n",
      "116 t h e u n i v e r s e i n a n u t s h e l l (fig.4.15) a b l a c k h o l e a t t h e c e n t e r o f a g a l a x y left: the galaxy ngc 4151 revealed by the wide-field planetary camera. center: the horizontal line passing through the image is from light gener- ated by the black hole at the center of 4151. right image showing the velocity of oxygen emissions.all the evidence indicates that ngc 4151 contains a black hole about a hundred million times the mass of the sun. (fig.4.14) pull on neighboring objects as did the body that collapsed.if the sun were a black hole and had managed to become one without los- ing any of its mass, the planets would still orbit as they do now. one way of searching for a black hole is therefore to look for matter that is orbiting what seems to be an unseen compact massive object.a number of such systems have been observed.\n",
      "\n",
      "\n"
     ]
    }
   ],
   "source": [
    "print_query_results(\"what is Black Hole\",embedding_tensor)"
   ]
  },
  {
   "cell_type": "code",
   "execution_count": 1,
   "id": "87be3e76-b66b-4f1c-9caf-66f8f050be2f",
   "metadata": {
    "ExecuteTime": {
     "end_time": "2024-04-25T05:46:08.644791Z",
     "start_time": "2024-04-25T05:46:08.632789Z"
    }
   },
   "outputs": [],
   "source": [
    "#Building the LLM\n",
    "import torch\n",
    "from transformers import AutoTokenizer,AutoModelForCausalLM\n",
    "from transformers import BitsAndBytesConfig\n"
   ]
  },
  {
   "cell_type": "code",
   "execution_count": 2,
   "id": "c79d2c72-ef7d-4d72-beab-48a0e0c3dbca",
   "metadata": {},
   "outputs": [],
   "source": [
    "quantization_config = BitsAndBytesConfig(load_in_4bit=True,\n",
    "                                        bnb_4bit_compute_dtype=torch.float16)"
   ]
  },
  {
   "cell_type": "code",
   "execution_count": 51,
   "id": "90e06927-0d04-475c-8a73-54d6c8b3a672",
   "metadata": {},
   "outputs": [],
   "source": [
    "model_id = \"meta-llama/Llama-2-7b-chat-hf\""
   ]
  },
  {
   "cell_type": "code",
   "execution_count": 63,
   "id": "1f4ebe12-2ce7-4938-95ab-5acbc759c8ab",
   "metadata": {},
   "outputs": [
    {
     "name": "stderr",
     "output_type": "stream",
     "text": [
      "`low_cpu_mem_usage` was None, now set to True since model is quantized.\n"
     ]
    },
    {
     "data": {
      "application/vnd.jupyter.widget-view+json": {
       "model_id": "154e4742c56948c0b8d0295fb8ebd104",
       "version_major": 2,
       "version_minor": 0
      },
      "text/plain": [
       "Loading checkpoint shards:   0%|          | 0/2 [00:00<?, ?it/s]"
      ]
     },
     "metadata": {},
     "output_type": "display_data"
    }
   ],
   "source": [
    "\n",
    "tokenizer = AutoTokenizer.from_pretrained(model_id)\n",
    "model = AutoModelForCausalLM.from_pretrained(model_id,\n",
    "                                            torch_dtype = torch.float16,\n",
    "                                            quantization_config =quantization_config,\n",
    "                                           )"
   ]
  },
  {
   "cell_type": "code",
   "execution_count": 64,
   "id": "0cccf410-91ee-4115-b11a-be91a1c88ad4",
   "metadata": {},
   "outputs": [
    {
     "data": {
      "text/plain": [
       "12632"
      ]
     },
     "execution_count": 64,
     "metadata": {},
     "output_type": "execute_result"
    }
   ],
   "source": [
    "import gc\n",
    "torch.cuda.empty_cache()\n",
    "gc.collect()\n"
   ]
  },
  {
   "cell_type": "code",
   "execution_count": null,
   "id": "3b235b8e-f684-42fc-a394-f296bd4f4070",
   "metadata": {},
   "outputs": [],
   "source": []
  },
  {
   "cell_type": "code",
   "execution_count": 65,
   "id": "e95c7c05-a130-429e-b6ab-8698bb64bf26",
   "metadata": {},
   "outputs": [
    {
     "name": "stdout",
     "output_type": "stream",
     "text": [
      "[INFO] model paramters 3500412928\n"
     ]
    }
   ],
   "source": [
    "print(\"[INFO] model paramters\",sum([param.numel() for param in model.parameters()]))"
   ]
  },
  {
   "cell_type": "code",
   "execution_count": 66,
   "id": "19090792-62aa-4306-88f0-4e454857a5ae",
   "metadata": {},
   "outputs": [],
   "source": [
    "questions = [\n",
    "    \"What is the concept of spacetime and how does it relate to our understanding of the universe?\",\n",
    "    \"How do black holes form, and what are the key characteristics that define them?\",\n",
    "    \"What is the event horizon of a black hole, and what significance does it hold in the context of general relativity?\",\n",
    "    \"Can anything escape from the gravitational pull of a black hole? If so, under what conditions?\",\n",
    "    \"What is Hawking radiation, and how does it challenge our understanding of black holes?\",\n",
    "    \"How do black holes affect the fabric of spacetime around them, and what implications does this have for the universe?\",\n",
    "    \"What role do black holes play in the formation and evolution of galaxies?\",\n",
    "    \"What are some proposed theories for what lies beyond the event horizon of a black hole?\",\n",
    "    \"How do black holes distort space and time around them, and how is this effect observed?\",\n",
    "    \"What are some potential applications or consequences of harnessing the power of black holes or manipulating spacetime?\"\n",
    "]\n"
   ]
  },
  {
   "cell_type": "code",
   "execution_count": 67,
   "id": "536be4ab-3a3e-4192-8bd3-e0d46a5235f4",
   "metadata": {},
   "outputs": [],
   "source": [
    "def prompt_fomatting(\n",
    "    query:str, context_dict : list[dict]) -> str:\n",
    "    context = \"- \" +  \"\\n- \".join([item['sentence_chunk'] for item in context_dict])\n",
    "    \n",
    "    base_prompt = \"\"\"\"Based on the following context , please answer the query.\n",
    "    query: {query}\n",
    "    context: {context} \"\"\"\n",
    "    base_prompt = base_prompt.format(context=context, query=query)\n",
    "\n",
    "    dialogue_template = [\n",
    "    {\"role\":\"user\",\n",
    "    \"content\":base_prompt}]\n",
    "\n",
    "    prompt = tokenizer.apply_chat_template(conversation=dialogue_template,\n",
    "                                          tokenize=False,\n",
    "                                          add_generation_prompt=True)\n",
    "\n",
    " \n",
    "    \n",
    "    return base_prompt"
   ]
  },
  {
   "cell_type": "code",
   "execution_count": 68,
   "id": "1286bb2f-be3e-4acc-b473-208fefc86d6d",
   "metadata": {},
   "outputs": [
    {
     "name": "stdout",
     "output_type": "stream",
     "text": [
      "How do black holes distort space and time around them, and how is this effect observed?\n",
      "[INFO] Time taken to get scores on 697 embeddings :6.259999963731389e-05\n"
     ]
    },
    {
     "data": {
      "text/plain": [
       "(tensor([0.5609, 0.5092, 0.4989, 0.4869, 0.4739], device='cuda:0'),\n",
       " tensor([420, 468, 399, 166, 551], device='cuda:0'))"
      ]
     },
     "execution_count": 68,
     "metadata": {},
     "output_type": "execute_result"
    }
   ],
   "source": [
    "import random\n",
    "\n",
    "query = random.choice(questions)\n",
    "print(f\"{query}\")\n",
    "\n",
    "scores,indicies = retrival_query_resources(query,embedding_tensor)\n",
    "scores,indicies"
   ]
  },
  {
   "cell_type": "code",
   "execution_count": 69,
   "id": "4a99e843-2bd6-4bf4-a293-33a1f8a4e20d",
   "metadata": {},
   "outputs": [],
   "source": [
    "context_items = [pages_and_chunks[i] for i in indicies]\n",
    "\n",
    "prompt = prompt_fomatting(query,context_items)"
   ]
  },
  {
   "cell_type": "code",
   "execution_count": 70,
   "id": "92acb433-fb64-4e4a-86ca-ddea74476990",
   "metadata": {},
   "outputs": [
    {
     "name": "stdout",
     "output_type": "stream",
     "text": [
      "CPU times: total: 0 ns\n",
      "Wall time: 4.01 ms\n"
     ]
    }
   ],
   "source": [
    "%%time\n",
    "\n",
    "input_ids = tokenizer(prompt,return_tensors='pt').to('cuda')"
   ]
  },
  {
   "cell_type": "code",
   "execution_count": 71,
   "id": "2f92cd60-951d-4cc3-b640-b4ba6a7bb41b",
   "metadata": {},
   "outputs": [
    {
     "name": "stdout",
     "output_type": "stream",
     "text": [
      "Query: How do black holes distort space and time around them, and how is this effect observed?\n",
      "Rag Answer\n",
      "CPU times: total: 5.45 s\n",
      "Wall time: 30.5 s\n"
     ]
    }
   ],
   "source": [
    "%%time\n",
    "\n",
    "output = model.generate(**input_ids,\n",
    "                        temperature=0.7,\n",
    "                        do_sample=True,\n",
    "                        max_new_tokens=256)\n",
    "\n",
    "output_text = tokenizer.decode(output[0])\n",
    "\n",
    "print(f\"Query: {query}\")\n",
    "print(f\"Rag Answer\")"
   ]
  },
  {
   "cell_type": "code",
   "execution_count": 75,
   "id": "9e4d23f5-e4d6-4475-bf15-750d3a9b24db",
   "metadata": {},
   "outputs": [
    {
     "data": {
      "text/plain": [
       "'   - the singularity of a black hole is an interesting and important place.the singularity is a point where the curvature of spacetime becomes infinite, and the laws of physics as we know them break down.at the singularity, the gravitational pull is so strong that not even light can escape, and the space around the singularity is warped in a way that makes it impossible to predict what will happen next.the singularity is surrounded by an event horizon, which marks the boundary beyond which nothing, not even light, can escape.the event horizon is the point of no return, and anything that crosses it will be pulled into the singularity.the singularity is a fascinating and mysterious place, and scientists are still trying to understand what happens there.'"
      ]
     },
     "execution_count": 75,
     "metadata": {},
     "output_type": "execute_result"
    }
   ],
   "source": [
    "output_text.replace(prompt,\" \").replace(prompt, \"\").replace(\"<s>\", \"\").replace(\"</s>\", \"\").replace(\"\\n\",\" \")"
   ]
  },
  {
   "cell_type": "code",
   "execution_count": 73,
   "id": "cdea6f4b-c506-4222-a433-515836da85a2",
   "metadata": {},
   "outputs": [
    {
     "name": "stdout",
     "output_type": "stream",
     "text": [
      "[INFO] Time taken to get scores on 697 embeddings :8.200000002034358e-05\n",
      "Score:56.09\n",
      "Text:\n",
      "35 t h e s h a p e o f t i m e general relativity combines the time dimension with the three dimensions of space to form what is called spacetime (see page 3 3 , fig.2 .3 ) .the theory incorporates the effect of gravity by saying that the distribution of matter and energy in the universe warps and distorts spacetime, so that it is not flat.objects in this spacetime try to move in straight lines, but because spacetime is curved, their paths appear bent.they move as if affected by a gravitational field. as a rough analogy, not to be taken too literally, imagine a sheet of rubber.one can place a large ball on the sheet to represent the sun.the weight of the ball will depress the sheet and cause it to be curved near the sun.if one now rolls little ball bearings on the sheet, they won't roll straight across to the other side but instead will go around the heavy weight, like planets orbiting the sun (fig.\n",
      "\n",
      "\n",
      "Score:50.92\n",
      "Text:\n",
      "the quantum origin and evolution of the universe will be discussed in the next chapter.) another possible behavior is illustrated by taking imaginary time to be degrees of longitude on the earth.all the lines of longi- tude meet at the north and south poles (fig.2.21, see page 61) thus time stands still there, in the sense that an increase of imagi- nary time, or of degrees of longitude, leaves one in the same spot. this is very similar to the way that ordinary time appears to stand still on the horizon of a black hole.we have come to recognize that this standing still of real and imaginary time (either both stand still or neither does) means that the spacetime has a temperature, as i discovered for black holes.not only does a black hole have a tem- perature, it also behaves as if it has a quantity called entropy.t h e entropy is a measure of the number of internal states (ways it could be configured on the inside) that the black hole could have without looking any different to an outside observer, who can only observe its mass, rotation, and charge.this black hole entropy is given by a very simple formula i discovered in 1974.it equals the area of the horizon of the black hole: there is one bit of information about the internal state of the black hole for each fundamental unit of area of\n",
      "\n",
      "\n",
      "Score:49.89\n",
      "Text:\n",
      "2 1 a b r i e f h i s t o r y o f r e l a t i v i t y (fig.1.13) l i g h t c u r v e s light from a star passing near the sun is deflected by the way the mass of the sun curves spacetime (a).this produces a slight shift in the apparent position of the star as seen from the earth (b).this can be observed during an eclipse. the sun during an eclipse (fig.1.13).here was direct evidence that space and time are warped, and it spurred the greatest change in our perception of the universe in which we live since euclid wrote his elements of geometry around 300 b.c. einstein's general theory of relativity transformed space and time from a passive background in which events take place to active participants in the dynamics of the universe.this led to a great problem that remains at the forefront of physics in the twenty-first century.t h e universe is full of matter, and matter warps spacetime in such a way that bodies fall together.einstein found that his equa- tions didn't have a solution that described a static universe, unchanging in time.rather than give up such an everlasting uni- verse, which he and most other people believed in, he fudged the equations by adding a term called the cosmological constant, which warped spacetime in the opposite sense, so that bodies move apart.\n",
      "\n",
      "\n",
      "Score:48.69\n",
      "Text:\n",
      "around the black hole: objects, such as unwary astronauts, can fall through the event horizon into the black hole, but nothing can ever get out of the black hole through the event horizon. (remember that the event horizon is the path in space-time of light that is trying to escape from the black hole, and nothing can travel faster than light.)one could well say of the event horizon what the poet dante said of the entrance to hell: “all hope abandon, ye who enter here.”anything or anyone who falls through the event horizon will soon reach the region of infinite density and the end of time.general relativity predicts that heavy objects that are moving will cause the emission of gravitational waves, ripples in the curvature of space that travel at the speed of light.these are similar to light waves, which are ripples of the electromagnetic field, but they are much harder to detect.they can be observed by the very slight change in separation they produce between neighboring freely moving objects.a number of detectors are being built in the united states, europe, and japan that will measure displacements of one part in a thousand million million million (1 with twenty-one zeros after it), or less than the nucleus of an atom over a distance of ten miles.like light, gravitational waves carry energy away from the objects that emit them.one would therefore expect a system of massive objects to settle down eventually to a stationary state, because the energy in any movement would be carried away by the emission of gravitational waves. (\n",
      "\n",
      "\n",
      "Score:47.39\n",
      "Text:\n",
      "perhaps the most impressive are the giant black holes that occur in the centers of galaxies and quasars (fig.4 .1 5 ) . the properties of black holes that have been discussed thus far don't raise any great problems with determinism.time will come to an end for an astronaut who falls into a black hole and hits the sin- gularity.however, in general relativity, one is free to measure time at different rates in different places.one could therefore speed up the astronaut's watch as he or she approached the singularity, so that it still registered an infinite interval of time.on the time-and-distance diagram (fig.4 .1 4 ) , the surfaces of constant values of this new time would be all crowded together at the center, below the point where the singularity appeared.\n",
      "\n",
      "\n"
     ]
    }
   ],
   "source": [
    "print_query_results(query,embedding_tensor)"
   ]
  },
  {
   "cell_type": "code",
   "execution_count": null,
   "id": "54fa7bc3-0cd9-43d7-9451-aad66502ba3b",
   "metadata": {},
   "outputs": [],
   "source": []
  }
 ],
 "metadata": {
  "kernelspec": {
   "display_name": "Python 3 (ipykernel)",
   "language": "python",
   "name": "python3"
  },
  "language_info": {
   "codemirror_mode": {
    "name": "ipython",
    "version": 3
   },
   "file_extension": ".py",
   "mimetype": "text/x-python",
   "name": "python",
   "nbconvert_exporter": "python",
   "pygments_lexer": "ipython3",
   "version": "3.9.19"
  }
 },
 "nbformat": 4,
 "nbformat_minor": 5
}
